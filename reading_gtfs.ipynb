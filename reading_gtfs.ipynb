{
 "cells": [
  {
   "cell_type": "markdown",
   "source": [
    "# Inicialização"
   ],
   "metadata": {
    "collapsed": false
   }
  },
  {
   "cell_type": "code",
   "execution_count": null,
   "outputs": [],
   "source": [
    "!pip install -r requirements.txt"
   ],
   "metadata": {
    "collapsed": false,
    "is_executing": true,
    "ExecuteTime": {
     "start_time": "2023-11-19T17:23:05.091736Z"
    }
   }
  },
  {
   "cell_type": "code",
   "execution_count": null,
   "outputs": [],
   "source": [
    "import gtfs_kit as gk\n",
    "import pandas as pd\n",
    "import swifter\n",
    "import seaborn as sns"
   ],
   "metadata": {
    "collapsed": false,
    "is_executing": true
   }
  },
  {
   "cell_type": "code",
   "execution_count": null,
   "outputs": [],
   "source": [
    "from pathlib import Path\n",
    "\n",
    "path = Path(\"./gtfs_rio-de-janeiro.zip\")\n",
    "\n",
    "feed = gk.read_feed(path, dist_units='km')\n",
    "\n",
    "feed.validate()"
   ],
   "metadata": {
    "id": "U6-ObmI3tBou",
    "outputId": "2fc92192-81e8-433e-86a0-d29b39fd3c68",
    "colab": {
     "base_uri": "https://localhost:8080/",
     "height": 175
    },
    "is_executing": true
   }
  },
  {
   "cell_type": "markdown",
   "source": [
    "# Parâmetros"
   ],
   "metadata": {
    "collapsed": false
   }
  },
  {
   "cell_type": "code",
   "execution_count": null,
   "outputs": [],
   "source": [
    "route = '309'\n",
    "position_parquet_file = './309_2023.parquet'"
   ],
   "metadata": {
    "collapsed": false,
    "is_executing": true
   }
  },
  {
   "cell_type": "markdown",
   "source": [
    "# Preparação de dados da rota"
   ],
   "metadata": {
    "collapsed": false
   }
  },
  {
   "cell_type": "code",
   "execution_count": null,
   "outputs": [],
   "source": [
    "route_id = feed.routes[feed.routes['route_short_name'] == route]['route_id'].iloc[0]\n",
    "route_id"
   ],
   "metadata": {
    "id": "z0ZvwKX0tBov",
    "outputId": "11bc857a-ed92-4e13-d709-992410506659",
    "colab": {
     "base_uri": "https://localhost:8080/",
     "height": 81
    },
    "is_executing": true
   }
  },
  {
   "cell_type": "code",
   "execution_count": null,
   "outputs": [],
   "source": [
    "from shapely import LineString, Point\n",
    "\n",
    "route_geometry: LineString = feed.geometrize_routes([route_id])['geometry'].iloc[0]\n",
    "route_geometry\n"
   ],
   "metadata": {
    "collapsed": false,
    "is_executing": true
   }
  },
  {
   "cell_type": "code",
   "execution_count": null,
   "outputs": [],
   "source": [
    "stop_ids = feed.get_stops(route_ids=[route_id])['stop_id']\n",
    "geometrized_stops = feed.geometrize_stops(stop_ids)[['stop_id', 'geometry']]\n",
    "geometrized_stops['projection'] = geometrized_stops['geometry'].apply(lambda x: route_geometry.project(x))\n",
    "geometrized_stops.sort_values(by='projection', inplace=True)\n",
    "geometrized_stops.head()"
   ],
   "metadata": {
    "collapsed": false,
    "is_executing": true
   }
  },
  {
   "cell_type": "markdown",
   "source": [
    "# Preparação de dados de ônibus"
   ],
   "metadata": {
    "collapsed": false
   }
  },
  {
   "cell_type": "code",
   "execution_count": null,
   "outputs": [],
   "source": [
    "bus_positions = pd.read_parquet(position_parquet_file)\n",
    "bus_positions.timestamp_gps = pd.to_datetime(bus_positions.timestamp_gps)\n",
    "bus_positions"
   ],
   "metadata": {
    "collapsed": false,
    "is_executing": true
   }
  },
  {
   "cell_type": "markdown",
   "source": [
    "# Cálculo de localização"
   ],
   "metadata": {
    "collapsed": false
   }
  },
  {
   "cell_type": "markdown",
   "source": [
    "## Localização relativa do ônibus na rota"
   ],
   "metadata": {
    "collapsed": false
   }
  },
  {
   "cell_type": "code",
   "execution_count": null,
   "outputs": [],
   "source": [
    "def project_location(bus_location: tuple[float, float]):\n",
    "    bus_location_on_route = route_geometry.interpolate(route_geometry.project(Point(bus_location)))\n",
    "    return route_geometry.project(bus_location_on_route)"
   ],
   "metadata": {
    "collapsed": false,
    "is_executing": true
   }
  },
  {
   "cell_type": "code",
   "execution_count": null,
   "outputs": [],
   "source": [
    "bus_positions['relative_distance'] = bus_positions[['latitude', 'longitude']].swifter.apply(lambda x: project_location((x['longitude'], x['latitude'])), axis=1)\n",
    "bus_positions.sample(10)"
   ],
   "metadata": {
    "collapsed": false,
    "is_executing": true
   }
  },
  {
   "cell_type": "markdown",
   "source": [
    "## Parada onde o ônibus está"
   ],
   "metadata": {
    "collapsed": false
   }
  },
  {
   "cell_type": "code",
   "execution_count": null,
   "outputs": [],
   "source": [
    "bus_positions['next_stop_index'] = geometrized_stops['projection'].searchsorted(bus_positions['relative_distance'], side='right')\n",
    "bus_positions['previous_stop_index'] = bus_positions['next_stop_index'] - 1\n",
    "bus_positions.sample(10)"
   ],
   "metadata": {
    "collapsed": false,
    "is_executing": true
   }
  },
  {
   "cell_type": "markdown",
   "source": [
    "## Distância do ônibus até a rota"
   ],
   "metadata": {
    "collapsed": false
   }
  },
  {
   "cell_type": "code",
   "execution_count": null,
   "outputs": [],
   "source": [
    "def distance_from_route(bus_location: tuple[float, float]):\n",
    "    return route_geometry.distance(Point(bus_location))"
   ],
   "metadata": {
    "collapsed": false,
    "is_executing": true
   }
  },
  {
   "cell_type": "code",
   "execution_count": null,
   "outputs": [],
   "source": [
    "bus_positions['distance_from_route'] = bus_positions[['latitude', 'longitude']].swifter.apply(lambda x: distance_from_route((x['longitude'], x['latitude'])), axis=1)\n",
    "bus_positions.sample(10)"
   ],
   "metadata": {
    "collapsed": false,
    "is_executing": true
   }
  },
  {
   "cell_type": "markdown",
   "source": [
    "# Análise"
   ],
   "metadata": {
    "collapsed": false
   }
  },
  {
   "cell_type": "markdown",
   "source": [
    "## Validade dos dados - os ônibus estão seguindo a rota?"
   ],
   "metadata": {
    "collapsed": false
   }
  },
  {
   "cell_type": "code",
   "execution_count": null,
   "outputs": [],
   "source": [
    "sns.violinplot(bus_positions['distance_from_route'])"
   ],
   "metadata": {
    "collapsed": false,
    "is_executing": true
   }
  },
  {
   "cell_type": "code",
   "execution_count": null,
   "outputs": [],
   "source": [],
   "metadata": {
    "collapsed": false,
    "is_executing": true
   }
  }
 ],
 "metadata": {
  "kernelspec": {
   "display_name": "Python 3",
   "language": "python",
   "name": "python3"
  },
  "language_info": {
   "codemirror_mode": {
    "name": "ipython",
    "version": 2
   },
   "file_extension": ".py",
   "mimetype": "text/x-python",
   "name": "python",
   "nbconvert_exporter": "python",
   "pygments_lexer": "ipython2",
   "version": "2.7.6"
  },
  "colab": {
   "provenance": []
  }
 },
 "nbformat": 4,
 "nbformat_minor": 0
}
