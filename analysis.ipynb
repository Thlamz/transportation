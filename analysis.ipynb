{
 "cells": [
  {
   "cell_type": "markdown",
   "id": "16f167352f44d961",
   "metadata": {
    "collapsed": false
   },
   "source": [
    "# Preparação"
   ]
  },
  {
   "cell_type": "code",
   "execution_count": 1,
   "id": "16c3a3d89d2e0ca2",
   "metadata": {
    "collapsed": false,
    "ExecuteTime": {
     "end_time": "2023-12-03T00:03:10.345887200Z",
     "start_time": "2023-12-03T00:03:07.912143400Z"
    }
   },
   "outputs": [],
   "source": [
    "import pandas as pd\n",
    "import seaborn as sns\n",
    "import swifter"
   ]
  },
  {
   "cell_type": "code",
   "execution_count": 2,
   "id": "initial_id",
   "metadata": {
    "collapsed": false,
    "ExecuteTime": {
     "end_time": "2023-12-03T00:04:17.701370100Z",
     "start_time": "2023-12-03T00:03:10.345887200Z"
    }
   },
   "outputs": [],
   "source": [
    "bus_trips = pd.read_pickle(\"bus_trips.pickle\")\n",
    "bus_positions = pd.read_pickle(\"bus_positions.pickle\")\n",
    "stop_list = pd.read_pickle(\"stop_list.pickle\")"
   ]
  },
  {
   "cell_type": "code",
   "execution_count": 3,
   "id": "e9d2c8c0d47976a9",
   "metadata": {
    "collapsed": false,
    "ExecuteTime": {
     "end_time": "2023-12-03T00:04:21.447231200Z",
     "start_time": "2023-12-03T00:04:17.872448600Z"
    }
   },
   "outputs": [
    {
     "data": {
      "text/plain": "       trip_id    datetime_partida    datetime_chegada id_veiculo sentido  \\\n0         6339 2023-01-01 05:00:22 2023-01-01 05:55:22     C41054       I   \n1         6346 2023-01-01 05:42:45 2023-01-01 06:47:15     C41215       I   \n2         6324 2023-01-01 06:46:39 2023-01-01 07:57:09     A41282       I   \n3         6331 2023-01-01 07:04:50 2023-01-01 08:10:50     C41010       I   \n4         6335 2023-01-01 07:21:04 2023-01-01 08:22:34     C41021       I   \n...        ...                 ...                 ...        ...     ...   \n63387    33949 2023-07-30 22:37:12 2023-07-30 23:39:42     C41385       I   \n63388    33795 2023-07-30 22:55:23 2023-07-30 23:54:53     A41016       I   \n63389    33868 2023-07-30 23:11:43 2023-07-31 00:19:13     A41457       I   \n63390    33809 2023-07-30 23:25:41 2023-07-31 00:26:41     A41125       I   \n63391    33833 2023-07-30 23:46:39 2023-07-31 01:03:09     A41296       V   \n\n       tempo_viagem  \n0                56  \n1                66  \n2                72  \n3                67  \n4                62  \n...             ...  \n63387            63  \n63388            60  \n63389            69  \n63390            62  \n63391            78  \n\n[63392 rows x 6 columns]",
      "text/html": "<div>\n<style scoped>\n    .dataframe tbody tr th:only-of-type {\n        vertical-align: middle;\n    }\n\n    .dataframe tbody tr th {\n        vertical-align: top;\n    }\n\n    .dataframe thead th {\n        text-align: right;\n    }\n</style>\n<table border=\"1\" class=\"dataframe\">\n  <thead>\n    <tr style=\"text-align: right;\">\n      <th></th>\n      <th>trip_id</th>\n      <th>datetime_partida</th>\n      <th>datetime_chegada</th>\n      <th>id_veiculo</th>\n      <th>sentido</th>\n      <th>tempo_viagem</th>\n    </tr>\n  </thead>\n  <tbody>\n    <tr>\n      <th>0</th>\n      <td>6339</td>\n      <td>2023-01-01 05:00:22</td>\n      <td>2023-01-01 05:55:22</td>\n      <td>C41054</td>\n      <td>I</td>\n      <td>56</td>\n    </tr>\n    <tr>\n      <th>1</th>\n      <td>6346</td>\n      <td>2023-01-01 05:42:45</td>\n      <td>2023-01-01 06:47:15</td>\n      <td>C41215</td>\n      <td>I</td>\n      <td>66</td>\n    </tr>\n    <tr>\n      <th>2</th>\n      <td>6324</td>\n      <td>2023-01-01 06:46:39</td>\n      <td>2023-01-01 07:57:09</td>\n      <td>A41282</td>\n      <td>I</td>\n      <td>72</td>\n    </tr>\n    <tr>\n      <th>3</th>\n      <td>6331</td>\n      <td>2023-01-01 07:04:50</td>\n      <td>2023-01-01 08:10:50</td>\n      <td>C41010</td>\n      <td>I</td>\n      <td>67</td>\n    </tr>\n    <tr>\n      <th>4</th>\n      <td>6335</td>\n      <td>2023-01-01 07:21:04</td>\n      <td>2023-01-01 08:22:34</td>\n      <td>C41021</td>\n      <td>I</td>\n      <td>62</td>\n    </tr>\n    <tr>\n      <th>...</th>\n      <td>...</td>\n      <td>...</td>\n      <td>...</td>\n      <td>...</td>\n      <td>...</td>\n      <td>...</td>\n    </tr>\n    <tr>\n      <th>63387</th>\n      <td>33949</td>\n      <td>2023-07-30 22:37:12</td>\n      <td>2023-07-30 23:39:42</td>\n      <td>C41385</td>\n      <td>I</td>\n      <td>63</td>\n    </tr>\n    <tr>\n      <th>63388</th>\n      <td>33795</td>\n      <td>2023-07-30 22:55:23</td>\n      <td>2023-07-30 23:54:53</td>\n      <td>A41016</td>\n      <td>I</td>\n      <td>60</td>\n    </tr>\n    <tr>\n      <th>63389</th>\n      <td>33868</td>\n      <td>2023-07-30 23:11:43</td>\n      <td>2023-07-31 00:19:13</td>\n      <td>A41457</td>\n      <td>I</td>\n      <td>69</td>\n    </tr>\n    <tr>\n      <th>63390</th>\n      <td>33809</td>\n      <td>2023-07-30 23:25:41</td>\n      <td>2023-07-31 00:26:41</td>\n      <td>A41125</td>\n      <td>I</td>\n      <td>62</td>\n    </tr>\n    <tr>\n      <th>63391</th>\n      <td>33833</td>\n      <td>2023-07-30 23:46:39</td>\n      <td>2023-07-31 01:03:09</td>\n      <td>A41296</td>\n      <td>V</td>\n      <td>78</td>\n    </tr>\n  </tbody>\n</table>\n<p>63392 rows × 6 columns</p>\n</div>"
     },
     "execution_count": 3,
     "metadata": {},
     "output_type": "execute_result"
    }
   ],
   "source": [
    "bus_trips"
   ]
  },
  {
   "cell_type": "code",
   "execution_count": 4,
   "id": "39e490f59a4ddf70",
   "metadata": {
    "collapsed": false,
    "ExecuteTime": {
     "end_time": "2023-12-03T00:04:21.844764300Z",
     "start_time": "2023-12-03T00:04:21.438710200Z"
    }
   },
   "outputs": [
    {
     "data": {
      "text/plain": "               timestamp_gps  latitude  longitude  velocidade_instantanea  \\\n0        2023-01-21 15:30:23 -22.90116  -43.18919                      21   \n1        2023-01-21 15:30:53 -22.90051  -43.18815                      14   \n2        2023-01-21 15:31:23 -22.90031  -43.18695                      31   \n3        2023-01-21 15:31:53 -22.90179  -43.18496                      10   \n4        2023-01-21 15:32:23 -22.90200  -43.18444                      20   \n...                      ...       ...        ...                     ...   \n10306442 2023-07-25 21:07:48 -22.90116  -43.17926                      26   \n10306443 2023-07-25 21:08:18 -22.90138  -43.18009                      21   \n10306444 2023-07-25 21:08:48 -22.90224  -43.18263                      38   \n10306445 2023-07-25 21:09:18 -22.90330  -43.18600                      46   \n10306446 2023-07-25 21:10:48 -22.90428  -43.18908                      39   \n\n          velocidade_estimada_10_min id_veiculo  trip_id    datetime_partida  \\\n0                                8.3     A41002  13788.0 2023-01-21 15:30:23   \n1                                9.0     A41002  13788.0 2023-01-21 15:30:23   \n2                                9.6     A41002  13788.0 2023-01-21 15:30:23   \n3                               11.4     A41002  13788.0 2023-01-21 15:30:23   \n4                               11.1     A41002  13788.0 2023-01-21 15:30:23   \n...                              ...        ...      ...                 ...   \n10306442                        27.4     C41430  61081.0 2023-07-25 20:04:29   \n10306443                        26.8     C41430  61081.0 2023-07-25 20:04:29   \n10306444                        28.7     C41430  61081.0 2023-07-25 20:04:29   \n10306445                        28.4     C41430  61081.0 2023-07-25 20:04:29   \n10306446                        22.1     C41430  61081.0 2023-07-25 20:04:29   \n\n            datetime_chegada sentido  tempo_viagem  \\\n0        2023-01-21 16:48:53       V          79.0   \n1        2023-01-21 16:48:53       V          79.0   \n2        2023-01-21 16:48:53       V          79.0   \n3        2023-01-21 16:48:53       V          79.0   \n4        2023-01-21 16:48:53       V          79.0   \n...                      ...     ...           ...   \n10306442 2023-07-25 21:10:48       I          67.0   \n10306443 2023-07-25 21:10:48       I          67.0   \n10306444 2023-07-25 21:10:48       I          67.0   \n10306445 2023-07-25 21:10:48       I          67.0   \n10306446 2023-07-25 21:10:48       I          67.0   \n\n                             geometry  relative_roundtrip_distance  \\\n0         POINT (-43.18919 -22.90116)                     0.508194   \n1         POINT (-43.18815 -22.90051)                     0.509991   \n2         POINT (-43.18695 -22.90031)                     0.512295   \n3         POINT (-43.18496 -22.90179)                     0.515924   \n4           POINT (-43.18444 -22.902)                     0.516765   \n...                               ...                          ...   \n10306442  POINT (-43.17926 -22.90116)                     0.476072   \n10306443  POINT (-43.18009 -22.90138)                     0.477393   \n10306444  POINT (-43.18263 -22.90224)                     0.481319   \n10306445     POINT (-43.186 -22.9033)                     0.486508   \n10306446  POINT (-43.18908 -22.90428)                     0.491241   \n\n          relative_distance  next_stop_index  previous_stop_index  \\\n0                  0.017065               70                   69   \n1                  0.020657               70                   69   \n2                  0.025263               70                   69   \n3                  0.032515               71                   70   \n4                  0.034197               71                   70   \n...                     ...              ...                  ...   \n10306442           0.952802               67                   66   \n10306443           0.955445               67                   66   \n10306444           0.963303               68                   67   \n10306445           0.973688               68                   67   \n10306446           0.983160               69                   68   \n\n          distance_from_route  timestamp_hour  \n0                    0.000042              15  \n1                    0.000053              15  \n2                    0.000072              15  \n3                    0.000014              15  \n4                    0.000021              15  \n...                       ...             ...  \n10306442             0.000040              21  \n10306443             0.000137              21  \n10306444             0.000101              21  \n10306445             0.000038              21  \n10306446             0.000031              21  \n\n[10306447 rows x 18 columns]",
      "text/html": "<div>\n<style scoped>\n    .dataframe tbody tr th:only-of-type {\n        vertical-align: middle;\n    }\n\n    .dataframe tbody tr th {\n        vertical-align: top;\n    }\n\n    .dataframe thead th {\n        text-align: right;\n    }\n</style>\n<table border=\"1\" class=\"dataframe\">\n  <thead>\n    <tr style=\"text-align: right;\">\n      <th></th>\n      <th>timestamp_gps</th>\n      <th>latitude</th>\n      <th>longitude</th>\n      <th>velocidade_instantanea</th>\n      <th>velocidade_estimada_10_min</th>\n      <th>id_veiculo</th>\n      <th>trip_id</th>\n      <th>datetime_partida</th>\n      <th>datetime_chegada</th>\n      <th>sentido</th>\n      <th>tempo_viagem</th>\n      <th>geometry</th>\n      <th>relative_roundtrip_distance</th>\n      <th>relative_distance</th>\n      <th>next_stop_index</th>\n      <th>previous_stop_index</th>\n      <th>distance_from_route</th>\n      <th>timestamp_hour</th>\n    </tr>\n  </thead>\n  <tbody>\n    <tr>\n      <th>0</th>\n      <td>2023-01-21 15:30:23</td>\n      <td>-22.90116</td>\n      <td>-43.18919</td>\n      <td>21</td>\n      <td>8.3</td>\n      <td>A41002</td>\n      <td>13788.0</td>\n      <td>2023-01-21 15:30:23</td>\n      <td>2023-01-21 16:48:53</td>\n      <td>V</td>\n      <td>79.0</td>\n      <td>POINT (-43.18919 -22.90116)</td>\n      <td>0.508194</td>\n      <td>0.017065</td>\n      <td>70</td>\n      <td>69</td>\n      <td>0.000042</td>\n      <td>15</td>\n    </tr>\n    <tr>\n      <th>1</th>\n      <td>2023-01-21 15:30:53</td>\n      <td>-22.90051</td>\n      <td>-43.18815</td>\n      <td>14</td>\n      <td>9.0</td>\n      <td>A41002</td>\n      <td>13788.0</td>\n      <td>2023-01-21 15:30:23</td>\n      <td>2023-01-21 16:48:53</td>\n      <td>V</td>\n      <td>79.0</td>\n      <td>POINT (-43.18815 -22.90051)</td>\n      <td>0.509991</td>\n      <td>0.020657</td>\n      <td>70</td>\n      <td>69</td>\n      <td>0.000053</td>\n      <td>15</td>\n    </tr>\n    <tr>\n      <th>2</th>\n      <td>2023-01-21 15:31:23</td>\n      <td>-22.90031</td>\n      <td>-43.18695</td>\n      <td>31</td>\n      <td>9.6</td>\n      <td>A41002</td>\n      <td>13788.0</td>\n      <td>2023-01-21 15:30:23</td>\n      <td>2023-01-21 16:48:53</td>\n      <td>V</td>\n      <td>79.0</td>\n      <td>POINT (-43.18695 -22.90031)</td>\n      <td>0.512295</td>\n      <td>0.025263</td>\n      <td>70</td>\n      <td>69</td>\n      <td>0.000072</td>\n      <td>15</td>\n    </tr>\n    <tr>\n      <th>3</th>\n      <td>2023-01-21 15:31:53</td>\n      <td>-22.90179</td>\n      <td>-43.18496</td>\n      <td>10</td>\n      <td>11.4</td>\n      <td>A41002</td>\n      <td>13788.0</td>\n      <td>2023-01-21 15:30:23</td>\n      <td>2023-01-21 16:48:53</td>\n      <td>V</td>\n      <td>79.0</td>\n      <td>POINT (-43.18496 -22.90179)</td>\n      <td>0.515924</td>\n      <td>0.032515</td>\n      <td>71</td>\n      <td>70</td>\n      <td>0.000014</td>\n      <td>15</td>\n    </tr>\n    <tr>\n      <th>4</th>\n      <td>2023-01-21 15:32:23</td>\n      <td>-22.90200</td>\n      <td>-43.18444</td>\n      <td>20</td>\n      <td>11.1</td>\n      <td>A41002</td>\n      <td>13788.0</td>\n      <td>2023-01-21 15:30:23</td>\n      <td>2023-01-21 16:48:53</td>\n      <td>V</td>\n      <td>79.0</td>\n      <td>POINT (-43.18444 -22.902)</td>\n      <td>0.516765</td>\n      <td>0.034197</td>\n      <td>71</td>\n      <td>70</td>\n      <td>0.000021</td>\n      <td>15</td>\n    </tr>\n    <tr>\n      <th>...</th>\n      <td>...</td>\n      <td>...</td>\n      <td>...</td>\n      <td>...</td>\n      <td>...</td>\n      <td>...</td>\n      <td>...</td>\n      <td>...</td>\n      <td>...</td>\n      <td>...</td>\n      <td>...</td>\n      <td>...</td>\n      <td>...</td>\n      <td>...</td>\n      <td>...</td>\n      <td>...</td>\n      <td>...</td>\n      <td>...</td>\n    </tr>\n    <tr>\n      <th>10306442</th>\n      <td>2023-07-25 21:07:48</td>\n      <td>-22.90116</td>\n      <td>-43.17926</td>\n      <td>26</td>\n      <td>27.4</td>\n      <td>C41430</td>\n      <td>61081.0</td>\n      <td>2023-07-25 20:04:29</td>\n      <td>2023-07-25 21:10:48</td>\n      <td>I</td>\n      <td>67.0</td>\n      <td>POINT (-43.17926 -22.90116)</td>\n      <td>0.476072</td>\n      <td>0.952802</td>\n      <td>67</td>\n      <td>66</td>\n      <td>0.000040</td>\n      <td>21</td>\n    </tr>\n    <tr>\n      <th>10306443</th>\n      <td>2023-07-25 21:08:18</td>\n      <td>-22.90138</td>\n      <td>-43.18009</td>\n      <td>21</td>\n      <td>26.8</td>\n      <td>C41430</td>\n      <td>61081.0</td>\n      <td>2023-07-25 20:04:29</td>\n      <td>2023-07-25 21:10:48</td>\n      <td>I</td>\n      <td>67.0</td>\n      <td>POINT (-43.18009 -22.90138)</td>\n      <td>0.477393</td>\n      <td>0.955445</td>\n      <td>67</td>\n      <td>66</td>\n      <td>0.000137</td>\n      <td>21</td>\n    </tr>\n    <tr>\n      <th>10306444</th>\n      <td>2023-07-25 21:08:48</td>\n      <td>-22.90224</td>\n      <td>-43.18263</td>\n      <td>38</td>\n      <td>28.7</td>\n      <td>C41430</td>\n      <td>61081.0</td>\n      <td>2023-07-25 20:04:29</td>\n      <td>2023-07-25 21:10:48</td>\n      <td>I</td>\n      <td>67.0</td>\n      <td>POINT (-43.18263 -22.90224)</td>\n      <td>0.481319</td>\n      <td>0.963303</td>\n      <td>68</td>\n      <td>67</td>\n      <td>0.000101</td>\n      <td>21</td>\n    </tr>\n    <tr>\n      <th>10306445</th>\n      <td>2023-07-25 21:09:18</td>\n      <td>-22.90330</td>\n      <td>-43.18600</td>\n      <td>46</td>\n      <td>28.4</td>\n      <td>C41430</td>\n      <td>61081.0</td>\n      <td>2023-07-25 20:04:29</td>\n      <td>2023-07-25 21:10:48</td>\n      <td>I</td>\n      <td>67.0</td>\n      <td>POINT (-43.186 -22.9033)</td>\n      <td>0.486508</td>\n      <td>0.973688</td>\n      <td>68</td>\n      <td>67</td>\n      <td>0.000038</td>\n      <td>21</td>\n    </tr>\n    <tr>\n      <th>10306446</th>\n      <td>2023-07-25 21:10:48</td>\n      <td>-22.90428</td>\n      <td>-43.18908</td>\n      <td>39</td>\n      <td>22.1</td>\n      <td>C41430</td>\n      <td>61081.0</td>\n      <td>2023-07-25 20:04:29</td>\n      <td>2023-07-25 21:10:48</td>\n      <td>I</td>\n      <td>67.0</td>\n      <td>POINT (-43.18908 -22.90428)</td>\n      <td>0.491241</td>\n      <td>0.983160</td>\n      <td>69</td>\n      <td>68</td>\n      <td>0.000031</td>\n      <td>21</td>\n    </tr>\n  </tbody>\n</table>\n<p>10306447 rows × 18 columns</p>\n</div>"
     },
     "execution_count": 4,
     "metadata": {},
     "output_type": "execute_result"
    }
   ],
   "source": [
    "bus_positions"
   ]
  },
  {
   "cell_type": "code",
   "execution_count": 5,
   "id": "de2f4ce31fefb204",
   "metadata": {
    "collapsed": false,
    "ExecuteTime": {
     "end_time": "2023-12-03T00:04:23.276554300Z",
     "start_time": "2023-12-03T00:04:21.843405800Z"
    }
   },
   "outputs": [
    {
     "data": {
      "text/plain": "                    stop_id  shape_dist_traveled sentido  relative_position  \\\nstop_sequence                                                                 \n0                      wcdt                 0.00       I           0.000000   \n1              4128O00209C0              2935.40       I           0.040796   \n2              4128O00035C0              3746.88       I           0.052074   \n3              4128O00036C0              4178.28       I           0.058069   \n4              4128O00037C0              4710.90       I           0.065471   \n...                     ...                  ...     ...                ...   \n137            4128O00121C0             68369.50       V           0.950191   \n138            4128O00122C0             68793.55       V           0.956084   \n139            4128O00055C0             69229.90       V           0.962148   \n140            4128O00056C0             69683.61       V           0.968454   \n141                    wcdt             71953.46       V           1.000000   \n\n                                  geometry  \nstop_sequence                               \n0              POINT (-43.36520 -23.00147)  \n1              POINT (-43.36633 -23.00904)  \n2              POINT (-43.36793 -23.01099)  \n3              POINT (-43.36461 -23.01085)  \n4              POINT (-43.35939 -23.01065)  \n...                                    ...  \n137            POINT (-43.35994 -23.01039)  \n138            POINT (-43.36371 -23.01049)  \n139            POINT (-43.36601 -23.00861)  \n140            POINT (-43.36595 -23.00452)  \n141            POINT (-43.36520 -23.00147)  \n\n[142 rows x 5 columns]",
      "text/html": "<div>\n<style scoped>\n    .dataframe tbody tr th:only-of-type {\n        vertical-align: middle;\n    }\n\n    .dataframe tbody tr th {\n        vertical-align: top;\n    }\n\n    .dataframe thead th {\n        text-align: right;\n    }\n</style>\n<table border=\"1\" class=\"dataframe\">\n  <thead>\n    <tr style=\"text-align: right;\">\n      <th></th>\n      <th>stop_id</th>\n      <th>shape_dist_traveled</th>\n      <th>sentido</th>\n      <th>relative_position</th>\n      <th>geometry</th>\n    </tr>\n    <tr>\n      <th>stop_sequence</th>\n      <th></th>\n      <th></th>\n      <th></th>\n      <th></th>\n      <th></th>\n    </tr>\n  </thead>\n  <tbody>\n    <tr>\n      <th>0</th>\n      <td>wcdt</td>\n      <td>0.00</td>\n      <td>I</td>\n      <td>0.000000</td>\n      <td>POINT (-43.36520 -23.00147)</td>\n    </tr>\n    <tr>\n      <th>1</th>\n      <td>4128O00209C0</td>\n      <td>2935.40</td>\n      <td>I</td>\n      <td>0.040796</td>\n      <td>POINT (-43.36633 -23.00904)</td>\n    </tr>\n    <tr>\n      <th>2</th>\n      <td>4128O00035C0</td>\n      <td>3746.88</td>\n      <td>I</td>\n      <td>0.052074</td>\n      <td>POINT (-43.36793 -23.01099)</td>\n    </tr>\n    <tr>\n      <th>3</th>\n      <td>4128O00036C0</td>\n      <td>4178.28</td>\n      <td>I</td>\n      <td>0.058069</td>\n      <td>POINT (-43.36461 -23.01085)</td>\n    </tr>\n    <tr>\n      <th>4</th>\n      <td>4128O00037C0</td>\n      <td>4710.90</td>\n      <td>I</td>\n      <td>0.065471</td>\n      <td>POINT (-43.35939 -23.01065)</td>\n    </tr>\n    <tr>\n      <th>...</th>\n      <td>...</td>\n      <td>...</td>\n      <td>...</td>\n      <td>...</td>\n      <td>...</td>\n    </tr>\n    <tr>\n      <th>137</th>\n      <td>4128O00121C0</td>\n      <td>68369.50</td>\n      <td>V</td>\n      <td>0.950191</td>\n      <td>POINT (-43.35994 -23.01039)</td>\n    </tr>\n    <tr>\n      <th>138</th>\n      <td>4128O00122C0</td>\n      <td>68793.55</td>\n      <td>V</td>\n      <td>0.956084</td>\n      <td>POINT (-43.36371 -23.01049)</td>\n    </tr>\n    <tr>\n      <th>139</th>\n      <td>4128O00055C0</td>\n      <td>69229.90</td>\n      <td>V</td>\n      <td>0.962148</td>\n      <td>POINT (-43.36601 -23.00861)</td>\n    </tr>\n    <tr>\n      <th>140</th>\n      <td>4128O00056C0</td>\n      <td>69683.61</td>\n      <td>V</td>\n      <td>0.968454</td>\n      <td>POINT (-43.36595 -23.00452)</td>\n    </tr>\n    <tr>\n      <th>141</th>\n      <td>wcdt</td>\n      <td>71953.46</td>\n      <td>V</td>\n      <td>1.000000</td>\n      <td>POINT (-43.36520 -23.00147)</td>\n    </tr>\n  </tbody>\n</table>\n<p>142 rows × 5 columns</p>\n</div>"
     },
     "execution_count": 5,
     "metadata": {},
     "output_type": "execute_result"
    }
   ],
   "source": [
    "stop_list"
   ]
  },
  {
   "cell_type": "markdown",
   "id": "11626c7f80322b6",
   "metadata": {
    "collapsed": false
   },
   "source": [
    "# Análise"
   ]
  },
  {
   "cell_type": "markdown",
   "id": "c1350ff9de915770",
   "metadata": {
    "collapsed": false
   },
   "source": [
    "## Validade dos dados - os ônibus estão seguindo a rota?"
   ]
  },
  {
   "cell_type": "code",
   "execution_count": 6,
   "id": "834a123b5228c0ca",
   "metadata": {
    "collapsed": false
   },
   "outputs": [
    {
     "data": {
      "text/plain": [
       "<Axes: ylabel='distance_from_route'>"
      ]
     },
     "execution_count": 6,
     "metadata": {},
     "output_type": "execute_result"
    },
    {
     "data": {
      "image/png": "[encoded data removed]",
      "text/plain": [
       "<Figure size 640x480 with 1 Axes>"
      ]
     },
     "metadata": {},
     "output_type": "display_data"
    }
   ],
   "source": [
    "sns.violinplot(bus_positions['distance_from_route'])"
   ]
  },
  {
   "cell_type": "markdown",
   "id": "126fb77607900b71",
   "metadata": {
    "collapsed": false
   },
   "source": [
    "## 2.1 - Quais horários possuem maior tempo de espera no ponto de ônibus?"
   ]
  },
  {
   "cell_type": "code",
   "execution_count": 7,
   "id": "2801c4b0c48a8a2f",
   "metadata": {
    "collapsed": false
   },
   "outputs": [],
   "source": [
    "bus_positions['timestamp_hour'] = bus_positions.timestamp_gps.dt.hour"
   ]
  },
  {
   "cell_type": "code",
   "execution_count": 8,
   "id": "2a187dc758cad9cf",
   "metadata": {
    "collapsed": false
   },
   "outputs": [
    {
     "data": {
      "application/vnd.jupyter.widget-view+json": {
       "model_id": "d8a3f4bb1fcc4865843cff390dbba722",
       "version_major": 2,
       "version_minor": 0
      },
      "text/plain": [
       "Pandas Apply:   0%|          | 0/7140754 [00:00<?, ?it/s]"
      ]
     },
     "metadata": {},
     "output_type": "display_data"
    },
    {
     "name": "stderr",
     "output_type": "stream",
     "text": [
      "C:\\Users\\thlam\\AppData\\Local\\Temp\\ipykernel_24216\\959434510.py:2: SettingWithCopyWarning: \n",
      "A value is trying to be set on a copy of a slice from a DataFrame.\n",
      "Try using .loc[row_indexer,col_indexer] = value instead\n",
      "\n",
      "See the caveats in the documentation: https://pandas.pydata.org/pandas-docs/stable/user_guide/indexing.html#returning-a-view-versus-a-copy\n",
      "  traveling_buses['stop_distance'] = traveling_buses.swifter.apply(lambda x: stop_list.loc[x['next_stop_index'], 'shape_dist_traveled'] - stop_list.loc[x['previous_stop_index'], 'shape_dist_traveled'], axis=1)\n"
     ]
    },
    {
     "data": {
      "text/html": [
       "<div>\n",
       "<style scoped>\n",
       "    .dataframe tbody tr th:only-of-type {\n",
       "        vertical-align: middle;\n",
       "    }\n",
       "\n",
       "    .dataframe tbody tr th {\n",
       "        vertical-align: top;\n",
       "    }\n",
       "\n",
       "    .dataframe thead th {\n",
       "        text-align: right;\n",
       "    }\n",
       "</style>\n",
       "<table border=\"1\" class=\"dataframe\">\n",
       "  <thead>\n",
       "    <tr style=\"text-align: right;\">\n",
       "      <th></th>\n",
       "      <th>timestamp_gps</th>\n",
       "      <th>latitude</th>\n",
       "      <th>longitude</th>\n",
       "      <th>velocidade_instantanea</th>\n",
       "      <th>velocidade_estimada_10_min</th>\n",
       "      <th>id_veiculo</th>\n",
       "      <th>trip_id</th>\n",
       "      <th>datetime_partida</th>\n",
       "      <th>datetime_chegada</th>\n",
       "      <th>sentido</th>\n",
       "      <th>tempo_viagem</th>\n",
       "      <th>geometry</th>\n",
       "      <th>relative_roundtrip_distance</th>\n",
       "      <th>relative_distance</th>\n",
       "      <th>next_stop_index</th>\n",
       "      <th>previous_stop_index</th>\n",
       "      <th>distance_from_route</th>\n",
       "      <th>timestamp_hour</th>\n",
       "      <th>stop_distance</th>\n",
       "    </tr>\n",
       "  </thead>\n",
       "  <tbody>\n",
       "    <tr>\n",
       "      <th>0</th>\n",
       "      <td>2023-01-21 15:30:23</td>\n",
       "      <td>-22.90116</td>\n",
       "      <td>-43.18919</td>\n",
       "      <td>21</td>\n",
       "      <td>8.3</td>\n",
       "      <td>A41002</td>\n",
       "      <td>13788.0</td>\n",
       "      <td>2023-01-21 15:30:23</td>\n",
       "      <td>2023-01-21 16:48:53</td>\n",
       "      <td>V</td>\n",
       "      <td>79.0</td>\n",
       "      <td>POINT (-43.18919 -22.90116)</td>\n",
       "      <td>0.508194</td>\n",
       "      <td>0.017065</td>\n",
       "      <td>70</td>\n",
       "      <td>69</td>\n",
       "      <td>0.000042</td>\n",
       "      <td>15</td>\n",
       "      <td>1137.20</td>\n",
       "    </tr>\n",
       "    <tr>\n",
       "      <th>1</th>\n",
       "      <td>2023-01-21 15:30:53</td>\n",
       "      <td>-22.90051</td>\n",
       "      <td>-43.18815</td>\n",
       "      <td>14</td>\n",
       "      <td>9.0</td>\n",
       "      <td>A41002</td>\n",
       "      <td>13788.0</td>\n",
       "      <td>2023-01-21 15:30:23</td>\n",
       "      <td>2023-01-21 16:48:53</td>\n",
       "      <td>V</td>\n",
       "      <td>79.0</td>\n",
       "      <td>POINT (-43.18815 -22.90051)</td>\n",
       "      <td>0.509991</td>\n",
       "      <td>0.020657</td>\n",
       "      <td>70</td>\n",
       "      <td>69</td>\n",
       "      <td>0.000053</td>\n",
       "      <td>15</td>\n",
       "      <td>1137.20</td>\n",
       "    </tr>\n",
       "    <tr>\n",
       "      <th>2</th>\n",
       "      <td>2023-01-21 15:31:23</td>\n",
       "      <td>-22.90031</td>\n",
       "      <td>-43.18695</td>\n",
       "      <td>31</td>\n",
       "      <td>9.6</td>\n",
       "      <td>A41002</td>\n",
       "      <td>13788.0</td>\n",
       "      <td>2023-01-21 15:30:23</td>\n",
       "      <td>2023-01-21 16:48:53</td>\n",
       "      <td>V</td>\n",
       "      <td>79.0</td>\n",
       "      <td>POINT (-43.18695 -22.90031)</td>\n",
       "      <td>0.512295</td>\n",
       "      <td>0.025263</td>\n",
       "      <td>70</td>\n",
       "      <td>69</td>\n",
       "      <td>0.000072</td>\n",
       "      <td>15</td>\n",
       "      <td>1137.20</td>\n",
       "    </tr>\n",
       "    <tr>\n",
       "      <th>3</th>\n",
       "      <td>2023-01-21 15:31:53</td>\n",
       "      <td>-22.90179</td>\n",
       "      <td>-43.18496</td>\n",
       "      <td>10</td>\n",
       "      <td>11.4</td>\n",
       "      <td>A41002</td>\n",
       "      <td>13788.0</td>\n",
       "      <td>2023-01-21 15:30:23</td>\n",
       "      <td>2023-01-21 16:48:53</td>\n",
       "      <td>V</td>\n",
       "      <td>79.0</td>\n",
       "      <td>POINT (-43.18496 -22.90179)</td>\n",
       "      <td>0.515924</td>\n",
       "      <td>0.032515</td>\n",
       "      <td>71</td>\n",
       "      <td>70</td>\n",
       "      <td>0.000014</td>\n",
       "      <td>15</td>\n",
       "      <td>534.65</td>\n",
       "    </tr>\n",
       "    <tr>\n",
       "      <th>4</th>\n",
       "      <td>2023-01-21 15:32:23</td>\n",
       "      <td>-22.90200</td>\n",
       "      <td>-43.18444</td>\n",
       "      <td>20</td>\n",
       "      <td>11.1</td>\n",
       "      <td>A41002</td>\n",
       "      <td>13788.0</td>\n",
       "      <td>2023-01-21 15:30:23</td>\n",
       "      <td>2023-01-21 16:48:53</td>\n",
       "      <td>V</td>\n",
       "      <td>79.0</td>\n",
       "      <td>POINT (-43.18444 -22.902)</td>\n",
       "      <td>0.516765</td>\n",
       "      <td>0.034197</td>\n",
       "      <td>71</td>\n",
       "      <td>70</td>\n",
       "      <td>0.000021</td>\n",
       "      <td>15</td>\n",
       "      <td>534.65</td>\n",
       "    </tr>\n",
       "    <tr>\n",
       "      <th>...</th>\n",
       "      <td>...</td>\n",
       "      <td>...</td>\n",
       "      <td>...</td>\n",
       "      <td>...</td>\n",
       "      <td>...</td>\n",
       "      <td>...</td>\n",
       "      <td>...</td>\n",
       "      <td>...</td>\n",
       "      <td>...</td>\n",
       "      <td>...</td>\n",
       "      <td>...</td>\n",
       "      <td>...</td>\n",
       "      <td>...</td>\n",
       "      <td>...</td>\n",
       "      <td>...</td>\n",
       "      <td>...</td>\n",
       "      <td>...</td>\n",
       "      <td>...</td>\n",
       "      <td>...</td>\n",
       "    </tr>\n",
       "    <tr>\n",
       "      <th>10306442</th>\n",
       "      <td>2023-07-25 21:07:48</td>\n",
       "      <td>-22.90116</td>\n",
       "      <td>-43.17926</td>\n",
       "      <td>26</td>\n",
       "      <td>27.4</td>\n",
       "      <td>C41430</td>\n",
       "      <td>61081.0</td>\n",
       "      <td>2023-07-25 20:04:29</td>\n",
       "      <td>2023-07-25 21:10:48</td>\n",
       "      <td>I</td>\n",
       "      <td>67.0</td>\n",
       "      <td>POINT (-43.17926 -22.90116)</td>\n",
       "      <td>0.476072</td>\n",
       "      <td>0.952802</td>\n",
       "      <td>67</td>\n",
       "      <td>66</td>\n",
       "      <td>0.000040</td>\n",
       "      <td>21</td>\n",
       "      <td>487.88</td>\n",
       "    </tr>\n",
       "    <tr>\n",
       "      <th>10306443</th>\n",
       "      <td>2023-07-25 21:08:18</td>\n",
       "      <td>-22.90138</td>\n",
       "      <td>-43.18009</td>\n",
       "      <td>21</td>\n",
       "      <td>26.8</td>\n",
       "      <td>C41430</td>\n",
       "      <td>61081.0</td>\n",
       "      <td>2023-07-25 20:04:29</td>\n",
       "      <td>2023-07-25 21:10:48</td>\n",
       "      <td>I</td>\n",
       "      <td>67.0</td>\n",
       "      <td>POINT (-43.18009 -22.90138)</td>\n",
       "      <td>0.477393</td>\n",
       "      <td>0.955445</td>\n",
       "      <td>67</td>\n",
       "      <td>66</td>\n",
       "      <td>0.000137</td>\n",
       "      <td>21</td>\n",
       "      <td>487.88</td>\n",
       "    </tr>\n",
       "    <tr>\n",
       "      <th>10306444</th>\n",
       "      <td>2023-07-25 21:08:48</td>\n",
       "      <td>-22.90224</td>\n",
       "      <td>-43.18263</td>\n",
       "      <td>38</td>\n",
       "      <td>28.7</td>\n",
       "      <td>C41430</td>\n",
       "      <td>61081.0</td>\n",
       "      <td>2023-07-25 20:04:29</td>\n",
       "      <td>2023-07-25 21:10:48</td>\n",
       "      <td>I</td>\n",
       "      <td>67.0</td>\n",
       "      <td>POINT (-43.18263 -22.90224)</td>\n",
       "      <td>0.481319</td>\n",
       "      <td>0.963303</td>\n",
       "      <td>68</td>\n",
       "      <td>67</td>\n",
       "      <td>0.000101</td>\n",
       "      <td>21</td>\n",
       "      <td>640.61</td>\n",
       "    </tr>\n",
       "    <tr>\n",
       "      <th>10306445</th>\n",
       "      <td>2023-07-25 21:09:18</td>\n",
       "      <td>-22.90330</td>\n",
       "      <td>-43.18600</td>\n",
       "      <td>46</td>\n",
       "      <td>28.4</td>\n",
       "      <td>C41430</td>\n",
       "      <td>61081.0</td>\n",
       "      <td>2023-07-25 20:04:29</td>\n",
       "      <td>2023-07-25 21:10:48</td>\n",
       "      <td>I</td>\n",
       "      <td>67.0</td>\n",
       "      <td>POINT (-43.186 -22.9033)</td>\n",
       "      <td>0.486508</td>\n",
       "      <td>0.973688</td>\n",
       "      <td>68</td>\n",
       "      <td>67</td>\n",
       "      <td>0.000038</td>\n",
       "      <td>21</td>\n",
       "      <td>640.61</td>\n",
       "    </tr>\n",
       "    <tr>\n",
       "      <th>10306446</th>\n",
       "      <td>2023-07-25 21:10:48</td>\n",
       "      <td>-22.90428</td>\n",
       "      <td>-43.18908</td>\n",
       "      <td>39</td>\n",
       "      <td>22.1</td>\n",
       "      <td>C41430</td>\n",
       "      <td>61081.0</td>\n",
       "      <td>2023-07-25 20:04:29</td>\n",
       "      <td>2023-07-25 21:10:48</td>\n",
       "      <td>I</td>\n",
       "      <td>67.0</td>\n",
       "      <td>POINT (-43.18908 -22.90428)</td>\n",
       "      <td>0.491241</td>\n",
       "      <td>0.983160</td>\n",
       "      <td>69</td>\n",
       "      <td>68</td>\n",
       "      <td>0.000031</td>\n",
       "      <td>21</td>\n",
       "      <td>711.18</td>\n",
       "    </tr>\n",
       "  </tbody>\n",
       "</table>\n",
       "<p>7140754 rows × 19 columns</p>\n",
       "</div>"
      ],
      "text/plain": [
       "               timestamp_gps  latitude  longitude  velocidade_instantanea  \\\n",
       "0        2023-01-21 15:30:23 -22.90116  -43.18919                      21   \n",
       "1        2023-01-21 15:30:53 -22.90051  -43.18815                      14   \n",
       "2        2023-01-21 15:31:23 -22.90031  -43.18695                      31   \n",
       "3        2023-01-21 15:31:53 -22.90179  -43.18496                      10   \n",
       "4        2023-01-21 15:32:23 -22.90200  -43.18444                      20   \n",
       "...                      ...       ...        ...                     ...   \n",
       "10306442 2023-07-25 21:07:48 -22.90116  -43.17926                      26   \n",
       "10306443 2023-07-25 21:08:18 -22.90138  -43.18009                      21   \n",
       "10306444 2023-07-25 21:08:48 -22.90224  -43.18263                      38   \n",
       "10306445 2023-07-25 21:09:18 -22.90330  -43.18600                      46   \n",
       "10306446 2023-07-25 21:10:48 -22.90428  -43.18908                      39   \n",
       "\n",
       "          velocidade_estimada_10_min id_veiculo  trip_id    datetime_partida  \\\n",
       "0                                8.3     A41002  13788.0 2023-01-21 15:30:23   \n",
       "1                                9.0     A41002  13788.0 2023-01-21 15:30:23   \n",
       "2                                9.6     A41002  13788.0 2023-01-21 15:30:23   \n",
       "3                               11.4     A41002  13788.0 2023-01-21 15:30:23   \n",
       "4                               11.1     A41002  13788.0 2023-01-21 15:30:23   \n",
       "...                              ...        ...      ...                 ...   \n",
       "10306442                        27.4     C41430  61081.0 2023-07-25 20:04:29   \n",
       "10306443                        26.8     C41430  61081.0 2023-07-25 20:04:29   \n",
       "10306444                        28.7     C41430  61081.0 2023-07-25 20:04:29   \n",
       "10306445                        28.4     C41430  61081.0 2023-07-25 20:04:29   \n",
       "10306446                        22.1     C41430  61081.0 2023-07-25 20:04:29   \n",
       "\n",
       "            datetime_chegada sentido  tempo_viagem  \\\n",
       "0        2023-01-21 16:48:53       V          79.0   \n",
       "1        2023-01-21 16:48:53       V          79.0   \n",
       "2        2023-01-21 16:48:53       V          79.0   \n",
       "3        2023-01-21 16:48:53       V          79.0   \n",
       "4        2023-01-21 16:48:53       V          79.0   \n",
       "...                      ...     ...           ...   \n",
       "10306442 2023-07-25 21:10:48       I          67.0   \n",
       "10306443 2023-07-25 21:10:48       I          67.0   \n",
       "10306444 2023-07-25 21:10:48       I          67.0   \n",
       "10306445 2023-07-25 21:10:48       I          67.0   \n",
       "10306446 2023-07-25 21:10:48       I          67.0   \n",
       "\n",
       "                             geometry  relative_roundtrip_distance  \\\n",
       "0         POINT (-43.18919 -22.90116)                     0.508194   \n",
       "1         POINT (-43.18815 -22.90051)                     0.509991   \n",
       "2         POINT (-43.18695 -22.90031)                     0.512295   \n",
       "3         POINT (-43.18496 -22.90179)                     0.515924   \n",
       "4           POINT (-43.18444 -22.902)                     0.516765   \n",
       "...                               ...                          ...   \n",
       "10306442  POINT (-43.17926 -22.90116)                     0.476072   \n",
       "10306443  POINT (-43.18009 -22.90138)                     0.477393   \n",
       "10306444  POINT (-43.18263 -22.90224)                     0.481319   \n",
       "10306445     POINT (-43.186 -22.9033)                     0.486508   \n",
       "10306446  POINT (-43.18908 -22.90428)                     0.491241   \n",
       "\n",
       "          relative_distance  next_stop_index  previous_stop_index  \\\n",
       "0                  0.017065               70                   69   \n",
       "1                  0.020657               70                   69   \n",
       "2                  0.025263               70                   69   \n",
       "3                  0.032515               71                   70   \n",
       "4                  0.034197               71                   70   \n",
       "...                     ...              ...                  ...   \n",
       "10306442           0.952802               67                   66   \n",
       "10306443           0.955445               67                   66   \n",
       "10306444           0.963303               68                   67   \n",
       "10306445           0.973688               68                   67   \n",
       "10306446           0.983160               69                   68   \n",
       "\n",
       "          distance_from_route  timestamp_hour  stop_distance  \n",
       "0                    0.000042              15        1137.20  \n",
       "1                    0.000053              15        1137.20  \n",
       "2                    0.000072              15        1137.20  \n",
       "3                    0.000014              15         534.65  \n",
       "4                    0.000021              15         534.65  \n",
       "...                       ...             ...            ...  \n",
       "10306442             0.000040              21         487.88  \n",
       "10306443             0.000137              21         487.88  \n",
       "10306444             0.000101              21         640.61  \n",
       "10306445             0.000038              21         640.61  \n",
       "10306446             0.000031              21         711.18  \n",
       "\n",
       "[7140754 rows x 19 columns]"
      ]
     },
     "execution_count": 8,
     "metadata": {},
     "output_type": "execute_result"
    }
   ],
   "source": [
    "traveling_buses = bus_positions[(bus_positions.next_stop_index != bus_positions.previous_stop_index) & (bus_positions.velocidade_instantanea > 0)]\n",
    "traveling_buses['stop_distance'] = traveling_buses.swifter.apply(lambda x: stop_list.loc[x['next_stop_index'], 'shape_dist_traveled'] - stop_list.loc[x['previous_stop_index'], 'shape_dist_traveled'], axis=1)\n",
    "traveling_buses  "
   ]
  },
  {
   "cell_type": "code",
   "execution_count": 9,
   "id": "6ac337f387c61a43",
   "metadata": {
    "collapsed": false
   },
   "outputs": [
    {
     "data": {
      "text/html": [
       "<div>\n",
       "<style scoped>\n",
       "    .dataframe tbody tr th:only-of-type {\n",
       "        vertical-align: middle;\n",
       "    }\n",
       "\n",
       "    .dataframe tbody tr th {\n",
       "        vertical-align: top;\n",
       "    }\n",
       "\n",
       "    .dataframe thead th {\n",
       "        text-align: right;\n",
       "    }\n",
       "</style>\n",
       "<table border=\"1\" class=\"dataframe\">\n",
       "  <thead>\n",
       "    <tr style=\"text-align: right;\">\n",
       "      <th></th>\n",
       "      <th>timestamp_hour</th>\n",
       "      <th>next_stop_index</th>\n",
       "      <th>velocidade_instantanea</th>\n",
       "      <th>stop_distance</th>\n",
       "    </tr>\n",
       "  </thead>\n",
       "  <tbody>\n",
       "    <tr>\n",
       "      <th>0</th>\n",
       "      <td>0</td>\n",
       "      <td>1</td>\n",
       "      <td>52.889901</td>\n",
       "      <td>2935.40</td>\n",
       "    </tr>\n",
       "    <tr>\n",
       "      <th>1</th>\n",
       "      <td>0</td>\n",
       "      <td>2</td>\n",
       "      <td>38.453147</td>\n",
       "      <td>811.48</td>\n",
       "    </tr>\n",
       "    <tr>\n",
       "      <th>2</th>\n",
       "      <td>0</td>\n",
       "      <td>3</td>\n",
       "      <td>43.359281</td>\n",
       "      <td>431.40</td>\n",
       "    </tr>\n",
       "    <tr>\n",
       "      <th>3</th>\n",
       "      <td>0</td>\n",
       "      <td>4</td>\n",
       "      <td>55.226387</td>\n",
       "      <td>532.62</td>\n",
       "    </tr>\n",
       "    <tr>\n",
       "      <th>4</th>\n",
       "      <td>0</td>\n",
       "      <td>5</td>\n",
       "      <td>54.159664</td>\n",
       "      <td>370.84</td>\n",
       "    </tr>\n",
       "    <tr>\n",
       "      <th>...</th>\n",
       "      <td>...</td>\n",
       "      <td>...</td>\n",
       "      <td>...</td>\n",
       "      <td>...</td>\n",
       "    </tr>\n",
       "    <tr>\n",
       "      <th>3379</th>\n",
       "      <td>23</td>\n",
       "      <td>137</td>\n",
       "      <td>42.392617</td>\n",
       "      <td>455.99</td>\n",
       "    </tr>\n",
       "    <tr>\n",
       "      <th>3380</th>\n",
       "      <td>23</td>\n",
       "      <td>138</td>\n",
       "      <td>51.643678</td>\n",
       "      <td>424.05</td>\n",
       "    </tr>\n",
       "    <tr>\n",
       "      <th>3381</th>\n",
       "      <td>23</td>\n",
       "      <td>139</td>\n",
       "      <td>48.941532</td>\n",
       "      <td>436.35</td>\n",
       "    </tr>\n",
       "    <tr>\n",
       "      <th>3382</th>\n",
       "      <td>23</td>\n",
       "      <td>140</td>\n",
       "      <td>46.512411</td>\n",
       "      <td>453.71</td>\n",
       "    </tr>\n",
       "    <tr>\n",
       "      <th>3383</th>\n",
       "      <td>23</td>\n",
       "      <td>141</td>\n",
       "      <td>54.483680</td>\n",
       "      <td>2269.85</td>\n",
       "    </tr>\n",
       "  </tbody>\n",
       "</table>\n",
       "<p>3384 rows × 4 columns</p>\n",
       "</div>"
      ],
      "text/plain": [
       "      timestamp_hour  next_stop_index  velocidade_instantanea  stop_distance\n",
       "0                  0                1               52.889901        2935.40\n",
       "1                  0                2               38.453147         811.48\n",
       "2                  0                3               43.359281         431.40\n",
       "3                  0                4               55.226387         532.62\n",
       "4                  0                5               54.159664         370.84\n",
       "...              ...              ...                     ...            ...\n",
       "3379              23              137               42.392617         455.99\n",
       "3380              23              138               51.643678         424.05\n",
       "3381              23              139               48.941532         436.35\n",
       "3382              23              140               46.512411         453.71\n",
       "3383              23              141               54.483680        2269.85\n",
       "\n",
       "[3384 rows x 4 columns]"
      ]
     },
     "execution_count": 9,
     "metadata": {},
     "output_type": "execute_result"
    }
   ],
   "source": [
    "average_speed_by_hour_and_segment = traveling_buses.groupby(['timestamp_hour', 'next_stop_index']).agg({\n",
    "    'velocidade_instantanea': 'mean',\n",
    "    'stop_distance': 'first'\n",
    "}).reset_index()\n",
    "average_speed_by_hour_and_segment"
   ]
  },
  {
   "cell_type": "code",
   "execution_count": 10,
   "id": "63070ed19ec552a3",
   "metadata": {
    "collapsed": false
   },
   "outputs": [
    {
     "data": {
      "text/html": [
       "<div>\n",
       "<style scoped>\n",
       "    .dataframe tbody tr th:only-of-type {\n",
       "        vertical-align: middle;\n",
       "    }\n",
       "\n",
       "    .dataframe tbody tr th {\n",
       "        vertical-align: top;\n",
       "    }\n",
       "\n",
       "    .dataframe thead th {\n",
       "        text-align: right;\n",
       "    }\n",
       "</style>\n",
       "<table border=\"1\" class=\"dataframe\">\n",
       "  <thead>\n",
       "    <tr style=\"text-align: right;\">\n",
       "      <th></th>\n",
       "      <th>timestamp_hour</th>\n",
       "      <th>next_stop_index</th>\n",
       "      <th>velocidade_instantanea</th>\n",
       "      <th>stop_distance</th>\n",
       "      <th>time_to_serve</th>\n",
       "    </tr>\n",
       "  </thead>\n",
       "  <tbody>\n",
       "    <tr>\n",
       "      <th>0</th>\n",
       "      <td>0</td>\n",
       "      <td>1</td>\n",
       "      <td>52.889901</td>\n",
       "      <td>2935.40</td>\n",
       "      <td>199.800716</td>\n",
       "    </tr>\n",
       "    <tr>\n",
       "      <th>1</th>\n",
       "      <td>0</td>\n",
       "      <td>2</td>\n",
       "      <td>38.453147</td>\n",
       "      <td>811.48</td>\n",
       "      <td>75.971104</td>\n",
       "    </tr>\n",
       "    <tr>\n",
       "      <th>2</th>\n",
       "      <td>0</td>\n",
       "      <td>3</td>\n",
       "      <td>43.359281</td>\n",
       "      <td>431.40</td>\n",
       "      <td>35.817937</td>\n",
       "    </tr>\n",
       "    <tr>\n",
       "      <th>3</th>\n",
       "      <td>0</td>\n",
       "      <td>4</td>\n",
       "      <td>55.226387</td>\n",
       "      <td>532.62</td>\n",
       "      <td>34.719490</td>\n",
       "    </tr>\n",
       "    <tr>\n",
       "      <th>4</th>\n",
       "      <td>0</td>\n",
       "      <td>5</td>\n",
       "      <td>54.159664</td>\n",
       "      <td>370.84</td>\n",
       "      <td>24.649784</td>\n",
       "    </tr>\n",
       "    <tr>\n",
       "      <th>...</th>\n",
       "      <td>...</td>\n",
       "      <td>...</td>\n",
       "      <td>...</td>\n",
       "      <td>...</td>\n",
       "      <td>...</td>\n",
       "    </tr>\n",
       "    <tr>\n",
       "      <th>3379</th>\n",
       "      <td>23</td>\n",
       "      <td>137</td>\n",
       "      <td>42.392617</td>\n",
       "      <td>455.99</td>\n",
       "      <td>38.722874</td>\n",
       "    </tr>\n",
       "    <tr>\n",
       "      <th>3380</th>\n",
       "      <td>23</td>\n",
       "      <td>138</td>\n",
       "      <td>51.643678</td>\n",
       "      <td>424.05</td>\n",
       "      <td>29.559862</td>\n",
       "    </tr>\n",
       "    <tr>\n",
       "      <th>3381</th>\n",
       "      <td>23</td>\n",
       "      <td>139</td>\n",
       "      <td>48.941532</td>\n",
       "      <td>436.35</td>\n",
       "      <td>32.096666</td>\n",
       "    </tr>\n",
       "    <tr>\n",
       "      <th>3382</th>\n",
       "      <td>23</td>\n",
       "      <td>140</td>\n",
       "      <td>46.512411</td>\n",
       "      <td>453.71</td>\n",
       "      <td>35.116562</td>\n",
       "    </tr>\n",
       "    <tr>\n",
       "      <th>3383</th>\n",
       "      <td>23</td>\n",
       "      <td>141</td>\n",
       "      <td>54.483680</td>\n",
       "      <td>2269.85</td>\n",
       "      <td>149.979959</td>\n",
       "    </tr>\n",
       "  </tbody>\n",
       "</table>\n",
       "<p>3384 rows × 5 columns</p>\n",
       "</div>"
      ],
      "text/plain": [
       "      timestamp_hour  next_stop_index  velocidade_instantanea  stop_distance  \\\n",
       "0                  0                1               52.889901        2935.40   \n",
       "1                  0                2               38.453147         811.48   \n",
       "2                  0                3               43.359281         431.40   \n",
       "3                  0                4               55.226387         532.62   \n",
       "4                  0                5               54.159664         370.84   \n",
       "...              ...              ...                     ...            ...   \n",
       "3379              23              137               42.392617         455.99   \n",
       "3380              23              138               51.643678         424.05   \n",
       "3381              23              139               48.941532         436.35   \n",
       "3382              23              140               46.512411         453.71   \n",
       "3383              23              141               54.483680        2269.85   \n",
       "\n",
       "      time_to_serve  \n",
       "0        199.800716  \n",
       "1         75.971104  \n",
       "2         35.817937  \n",
       "3         34.719490  \n",
       "4         24.649784  \n",
       "...             ...  \n",
       "3379      38.722874  \n",
       "3380      29.559862  \n",
       "3381      32.096666  \n",
       "3382      35.116562  \n",
       "3383     149.979959  \n",
       "\n",
       "[3384 rows x 5 columns]"
      ]
     },
     "execution_count": 10,
     "metadata": {},
     "output_type": "execute_result"
    }
   ],
   "source": [
    "average_speed_by_hour_and_segment['time_to_serve'] = average_speed_by_hour_and_segment['stop_distance'] / (average_speed_by_hour_and_segment['velocidade_instantanea'] / 3.6)\n",
    "average_speed_by_hour_and_segment"
   ]
  },
  {
   "cell_type": "code",
   "execution_count": 11,
   "id": "de62d3c6b76dd70f",
   "metadata": {
    "collapsed": false
   },
   "outputs": [
    {
     "data": {
      "text/plain": [
       "timestamp_hour  next_stop_index\n",
       "0               1                  199.800716\n",
       "                2                   75.971104\n",
       "                3                   35.817937\n",
       "                4                   34.719490\n",
       "                5                   24.649784\n",
       "                                      ...    \n",
       "23              137                 38.722874\n",
       "                138                 29.559862\n",
       "                139                 32.096666\n",
       "                140                 35.116562\n",
       "                141                149.979959\n",
       "Name: time_to_serve, Length: 3384, dtype: float64"
      ]
     },
     "execution_count": 11,
     "metadata": {},
     "output_type": "execute_result"
    }
   ],
   "source": [
    "stop_serve_time = average_speed_by_hour_and_segment.set_index([\"timestamp_hour\", \"next_stop_index\"])['time_to_serve']\n",
    "stop_serve_time.sort_index(inplace=True)\n",
    "stop_serve_time"
   ]
  },
  {
   "cell_type": "code",
   "execution_count": 12,
   "id": "3a97ab648475d7b",
   "metadata": {
    "collapsed": false
   },
   "outputs": [
    {
     "name": "stderr",
     "output_type": "stream",
     "text": [
      "100%|████████████████████████████████████████████████████████████████████████████████| 212/212 [02:03<00:00,  1.72it/s]\n"
     ]
    }
   ],
   "source": [
    "from tqdm import tqdm\n",
    "\n",
    "days = bus_trips.datetime_chegada.dt.day_of_year.unique()\n",
    "\n",
    "forward_stops = stop_list[stop_list['sentido'] == 'I'].index\n",
    "backward_stops = stop_list[stop_list['sentido'] == 'V'].index\n",
    "\n",
    "day_visits = {}\n",
    "for day in tqdm(days, total=len(days)):\n",
    "    trips = bus_trips[(bus_trips.datetime_chegada.dt.day_of_year == day)]\n",
    "    stop_visit_times = {stop: [] for stop in stop_list.index}\n",
    "    for index, trip in trips.iterrows():\n",
    "        current_time = trip['datetime_partida']\n",
    "        \n",
    "        if trip['sentido'] == 'I':\n",
    "            stops = forward_stops\n",
    "        else:\n",
    "            stops = backward_stops\n",
    "        \n",
    "        for stop in stops:\n",
    "            stop_visit_times[stop].append(current_time)\n",
    "            \n",
    "            hour = current_time.hour\n",
    "            # If this hour and stop are not in the stop_serve_time table, then the bus skips this stop\n",
    "            if (hour, stop) not in stop_serve_time.index:\n",
    "                continue\n",
    "             \n",
    "            current_time += (stop_serve_time[hour, stop] if stop > 0 else 0) * pd.Timedelta(seconds=1)\n",
    "    day_visits[day] = stop_visit_times"
   ]
  },
  {
   "cell_type": "code",
   "execution_count": 13,
   "id": "961bf467b7624b6c",
   "metadata": {
    "collapsed": false
   },
   "outputs": [
    {
     "data": {
      "text/html": [
       "<div>\n",
       "<style scoped>\n",
       "    .dataframe tbody tr th:only-of-type {\n",
       "        vertical-align: middle;\n",
       "    }\n",
       "\n",
       "    .dataframe tbody tr th {\n",
       "        vertical-align: top;\n",
       "    }\n",
       "\n",
       "    .dataframe thead th {\n",
       "        text-align: right;\n",
       "    }\n",
       "</style>\n",
       "<table border=\"1\" class=\"dataframe\">\n",
       "  <thead>\n",
       "    <tr style=\"text-align: right;\">\n",
       "      <th></th>\n",
       "      <th>day_of_year</th>\n",
       "      <th>stop number</th>\n",
       "      <th>visit_times</th>\n",
       "      <th>sentido</th>\n",
       "    </tr>\n",
       "  </thead>\n",
       "  <tbody>\n",
       "    <tr>\n",
       "      <th>0</th>\n",
       "      <td>1</td>\n",
       "      <td>0</td>\n",
       "      <td>2023-01-01 05:00:22.000000000</td>\n",
       "      <td>I</td>\n",
       "    </tr>\n",
       "    <tr>\n",
       "      <th>1</th>\n",
       "      <td>1</td>\n",
       "      <td>0</td>\n",
       "      <td>2023-01-01 05:42:45.000000000</td>\n",
       "      <td>I</td>\n",
       "    </tr>\n",
       "    <tr>\n",
       "      <th>2</th>\n",
       "      <td>1</td>\n",
       "      <td>0</td>\n",
       "      <td>2023-01-01 06:46:39.000000000</td>\n",
       "      <td>I</td>\n",
       "    </tr>\n",
       "    <tr>\n",
       "      <th>3</th>\n",
       "      <td>1</td>\n",
       "      <td>0</td>\n",
       "      <td>2023-01-01 07:04:50.000000000</td>\n",
       "      <td>I</td>\n",
       "    </tr>\n",
       "    <tr>\n",
       "      <th>4</th>\n",
       "      <td>1</td>\n",
       "      <td>0</td>\n",
       "      <td>2023-01-01 07:21:04.000000000</td>\n",
       "      <td>I</td>\n",
       "    </tr>\n",
       "    <tr>\n",
       "      <th>...</th>\n",
       "      <td>...</td>\n",
       "      <td>...</td>\n",
       "      <td>...</td>\n",
       "      <td>...</td>\n",
       "    </tr>\n",
       "    <tr>\n",
       "      <th>4374491</th>\n",
       "      <td>212</td>\n",
       "      <td>137</td>\n",
       "      <td>2023-07-31 00:36:46.840299586</td>\n",
       "      <td>V</td>\n",
       "    </tr>\n",
       "    <tr>\n",
       "      <th>4406000</th>\n",
       "      <td>212</td>\n",
       "      <td>138</td>\n",
       "      <td>2023-07-31 00:37:17.025044463</td>\n",
       "      <td>V</td>\n",
       "    </tr>\n",
       "    <tr>\n",
       "      <th>4437509</th>\n",
       "      <td>212</td>\n",
       "      <td>139</td>\n",
       "      <td>2023-07-31 00:37:44.447964289</td>\n",
       "      <td>V</td>\n",
       "    </tr>\n",
       "    <tr>\n",
       "      <th>4469018</th>\n",
       "      <td>212</td>\n",
       "      <td>140</td>\n",
       "      <td>2023-07-31 00:38:15.009229395</td>\n",
       "      <td>V</td>\n",
       "    </tr>\n",
       "    <tr>\n",
       "      <th>4500527</th>\n",
       "      <td>212</td>\n",
       "      <td>141</td>\n",
       "      <td>2023-07-31 00:38:46.970880066</td>\n",
       "      <td>V</td>\n",
       "    </tr>\n",
       "  </tbody>\n",
       "</table>\n",
       "<p>4500528 rows × 4 columns</p>\n",
       "</div>"
      ],
      "text/plain": [
       "         day_of_year stop number                   visit_times sentido\n",
       "0                  1           0 2023-01-01 05:00:22.000000000       I\n",
       "1                  1           0 2023-01-01 05:42:45.000000000       I\n",
       "2                  1           0 2023-01-01 06:46:39.000000000       I\n",
       "3                  1           0 2023-01-01 07:04:50.000000000       I\n",
       "4                  1           0 2023-01-01 07:21:04.000000000       I\n",
       "...              ...         ...                           ...     ...\n",
       "4374491          212         137 2023-07-31 00:36:46.840299586       V\n",
       "4406000          212         138 2023-07-31 00:37:17.025044463       V\n",
       "4437509          212         139 2023-07-31 00:37:44.447964289       V\n",
       "4469018          212         140 2023-07-31 00:38:15.009229395       V\n",
       "4500527          212         141 2023-07-31 00:38:46.970880066       V\n",
       "\n",
       "[4500528 rows x 4 columns]"
      ]
     },
     "execution_count": 13,
     "metadata": {},
     "output_type": "execute_result"
    }
   ],
   "source": [
    "day_dataframe = pd.DataFrame.from_dict(day_visits, orient='index')\n",
    "day_dataframe.reset_index(inplace=True, names='day_of_year')\n",
    "day_dataframe = day_dataframe.melt(\n",
    "    id_vars=['day_of_year'],\n",
    "    var_name='stop number',\n",
    "    value_name='visit_times'\n",
    ")\n",
    "day_dataframe = day_dataframe.explode('visit_times', ignore_index=True)\n",
    "day_dataframe = pd.merge(day_dataframe, stop_list['sentido'], left_on='stop number', right_index=True, how='left')\n",
    "day_dataframe.sort_values(['day_of_year', 'stop number', 'visit_times'], inplace=True)\n",
    "day_dataframe"
   ]
  },
  {
   "cell_type": "code",
   "execution_count": 14,
   "id": "714999f059e94a3a",
   "metadata": {
    "collapsed": false
   },
   "outputs": [
    {
     "data": {
      "text/html": [
       "<div>\n",
       "<style scoped>\n",
       "    .dataframe tbody tr th:only-of-type {\n",
       "        vertical-align: middle;\n",
       "    }\n",
       "\n",
       "    .dataframe tbody tr th {\n",
       "        vertical-align: top;\n",
       "    }\n",
       "\n",
       "    .dataframe thead th {\n",
       "        text-align: right;\n",
       "    }\n",
       "</style>\n",
       "<table border=\"1\" class=\"dataframe\">\n",
       "  <thead>\n",
       "    <tr style=\"text-align: right;\">\n",
       "      <th></th>\n",
       "      <th>day_of_year</th>\n",
       "      <th>stop number</th>\n",
       "      <th>visit_times</th>\n",
       "      <th>sentido</th>\n",
       "      <th>time_since_last_visit</th>\n",
       "    </tr>\n",
       "  </thead>\n",
       "  <tbody>\n",
       "    <tr>\n",
       "      <th>0</th>\n",
       "      <td>1</td>\n",
       "      <td>0</td>\n",
       "      <td>2023-01-01 05:00:22.000000000</td>\n",
       "      <td>I</td>\n",
       "      <td>NaT</td>\n",
       "    </tr>\n",
       "    <tr>\n",
       "      <th>1</th>\n",
       "      <td>1</td>\n",
       "      <td>0</td>\n",
       "      <td>2023-01-01 05:42:45.000000000</td>\n",
       "      <td>I</td>\n",
       "      <td>0 days 00:42:23</td>\n",
       "    </tr>\n",
       "    <tr>\n",
       "      <th>2</th>\n",
       "      <td>1</td>\n",
       "      <td>0</td>\n",
       "      <td>2023-01-01 06:46:39.000000000</td>\n",
       "      <td>I</td>\n",
       "      <td>0 days 01:03:54</td>\n",
       "    </tr>\n",
       "    <tr>\n",
       "      <th>3</th>\n",
       "      <td>1</td>\n",
       "      <td>0</td>\n",
       "      <td>2023-01-01 07:04:50.000000000</td>\n",
       "      <td>I</td>\n",
       "      <td>0 days 00:18:11</td>\n",
       "    </tr>\n",
       "    <tr>\n",
       "      <th>4</th>\n",
       "      <td>1</td>\n",
       "      <td>0</td>\n",
       "      <td>2023-01-01 07:21:04.000000000</td>\n",
       "      <td>I</td>\n",
       "      <td>0 days 00:16:14</td>\n",
       "    </tr>\n",
       "    <tr>\n",
       "      <th>...</th>\n",
       "      <td>...</td>\n",
       "      <td>...</td>\n",
       "      <td>...</td>\n",
       "      <td>...</td>\n",
       "      <td>...</td>\n",
       "    </tr>\n",
       "    <tr>\n",
       "      <th>4374491</th>\n",
       "      <td>212</td>\n",
       "      <td>137</td>\n",
       "      <td>2023-07-31 00:36:46.840299586</td>\n",
       "      <td>V</td>\n",
       "      <td>NaT</td>\n",
       "    </tr>\n",
       "    <tr>\n",
       "      <th>4406000</th>\n",
       "      <td>212</td>\n",
       "      <td>138</td>\n",
       "      <td>2023-07-31 00:37:17.025044463</td>\n",
       "      <td>V</td>\n",
       "      <td>NaT</td>\n",
       "    </tr>\n",
       "    <tr>\n",
       "      <th>4437509</th>\n",
       "      <td>212</td>\n",
       "      <td>139</td>\n",
       "      <td>2023-07-31 00:37:44.447964289</td>\n",
       "      <td>V</td>\n",
       "      <td>NaT</td>\n",
       "    </tr>\n",
       "    <tr>\n",
       "      <th>4469018</th>\n",
       "      <td>212</td>\n",
       "      <td>140</td>\n",
       "      <td>2023-07-31 00:38:15.009229395</td>\n",
       "      <td>V</td>\n",
       "      <td>NaT</td>\n",
       "    </tr>\n",
       "    <tr>\n",
       "      <th>4500527</th>\n",
       "      <td>212</td>\n",
       "      <td>141</td>\n",
       "      <td>2023-07-31 00:38:46.970880066</td>\n",
       "      <td>V</td>\n",
       "      <td>NaT</td>\n",
       "    </tr>\n",
       "  </tbody>\n",
       "</table>\n",
       "<p>4500528 rows × 5 columns</p>\n",
       "</div>"
      ],
      "text/plain": [
       "         day_of_year stop number                   visit_times sentido  \\\n",
       "0                  1           0 2023-01-01 05:00:22.000000000       I   \n",
       "1                  1           0 2023-01-01 05:42:45.000000000       I   \n",
       "2                  1           0 2023-01-01 06:46:39.000000000       I   \n",
       "3                  1           0 2023-01-01 07:04:50.000000000       I   \n",
       "4                  1           0 2023-01-01 07:21:04.000000000       I   \n",
       "...              ...         ...                           ...     ...   \n",
       "4374491          212         137 2023-07-31 00:36:46.840299586       V   \n",
       "4406000          212         138 2023-07-31 00:37:17.025044463       V   \n",
       "4437509          212         139 2023-07-31 00:37:44.447964289       V   \n",
       "4469018          212         140 2023-07-31 00:38:15.009229395       V   \n",
       "4500527          212         141 2023-07-31 00:38:46.970880066       V   \n",
       "\n",
       "        time_since_last_visit  \n",
       "0                         NaT  \n",
       "1             0 days 00:42:23  \n",
       "2             0 days 01:03:54  \n",
       "3             0 days 00:18:11  \n",
       "4             0 days 00:16:14  \n",
       "...                       ...  \n",
       "4374491                   NaT  \n",
       "4406000                   NaT  \n",
       "4437509                   NaT  \n",
       "4469018                   NaT  \n",
       "4500527                   NaT  \n",
       "\n",
       "[4500528 rows x 5 columns]"
      ]
     },
     "execution_count": 14,
     "metadata": {},
     "output_type": "execute_result"
    }
   ],
   "source": [
    "shifted = day_dataframe.groupby(['day_of_year', 'sentido', 'stop number'])['visit_times'].shift(1)\n",
    "day_dataframe['time_since_last_visit'] = day_dataframe['visit_times'] - shifted\n",
    "day_dataframe"
   ]
  },
  {
   "cell_type": "code",
   "execution_count": 15,
   "id": "f6d2c94153dcb837",
   "metadata": {
    "collapsed": false
   },
   "outputs": [
    {
     "data": {
      "text/html": [
       "<div>\n",
       "<style scoped>\n",
       "    .dataframe tbody tr th:only-of-type {\n",
       "        vertical-align: middle;\n",
       "    }\n",
       "\n",
       "    .dataframe tbody tr th {\n",
       "        vertical-align: top;\n",
       "    }\n",
       "\n",
       "    .dataframe thead th {\n",
       "        text-align: right;\n",
       "    }\n",
       "</style>\n",
       "<table border=\"1\" class=\"dataframe\">\n",
       "  <thead>\n",
       "    <tr style=\"text-align: right;\">\n",
       "      <th></th>\n",
       "      <th>day_of_year</th>\n",
       "      <th>stop number</th>\n",
       "      <th>visit_times</th>\n",
       "      <th>sentido</th>\n",
       "      <th>time_since_last_visit</th>\n",
       "      <th>wait time (s)</th>\n",
       "      <th>wait difference from avg (s)</th>\n",
       "      <th>hour</th>\n",
       "    </tr>\n",
       "  </thead>\n",
       "  <tbody>\n",
       "    <tr>\n",
       "      <th>0</th>\n",
       "      <td>1</td>\n",
       "      <td>0</td>\n",
       "      <td>2023-01-01 05:00:22.000000000</td>\n",
       "      <td>I</td>\n",
       "      <td>NaT</td>\n",
       "      <td>NaN</td>\n",
       "      <td>NaN</td>\n",
       "      <td>5.0</td>\n",
       "    </tr>\n",
       "    <tr>\n",
       "      <th>1</th>\n",
       "      <td>1</td>\n",
       "      <td>0</td>\n",
       "      <td>2023-01-01 05:42:45.000000000</td>\n",
       "      <td>I</td>\n",
       "      <td>0 days 00:42:23</td>\n",
       "      <td>2543.0</td>\n",
       "      <td>1992.09805</td>\n",
       "      <td>5.0</td>\n",
       "    </tr>\n",
       "    <tr>\n",
       "      <th>2</th>\n",
       "      <td>1</td>\n",
       "      <td>0</td>\n",
       "      <td>2023-01-01 06:46:39.000000000</td>\n",
       "      <td>I</td>\n",
       "      <td>0 days 01:03:54</td>\n",
       "      <td>3834.0</td>\n",
       "      <td>3283.09805</td>\n",
       "      <td>6.0</td>\n",
       "    </tr>\n",
       "    <tr>\n",
       "      <th>3</th>\n",
       "      <td>1</td>\n",
       "      <td>0</td>\n",
       "      <td>2023-01-01 07:04:50.000000000</td>\n",
       "      <td>I</td>\n",
       "      <td>0 days 00:18:11</td>\n",
       "      <td>1091.0</td>\n",
       "      <td>540.09805</td>\n",
       "      <td>7.0</td>\n",
       "    </tr>\n",
       "    <tr>\n",
       "      <th>4</th>\n",
       "      <td>1</td>\n",
       "      <td>0</td>\n",
       "      <td>2023-01-01 07:21:04.000000000</td>\n",
       "      <td>I</td>\n",
       "      <td>0 days 00:16:14</td>\n",
       "      <td>974.0</td>\n",
       "      <td>423.09805</td>\n",
       "      <td>7.0</td>\n",
       "    </tr>\n",
       "    <tr>\n",
       "      <th>...</th>\n",
       "      <td>...</td>\n",
       "      <td>...</td>\n",
       "      <td>...</td>\n",
       "      <td>...</td>\n",
       "      <td>...</td>\n",
       "      <td>...</td>\n",
       "      <td>...</td>\n",
       "      <td>...</td>\n",
       "    </tr>\n",
       "    <tr>\n",
       "      <th>4374491</th>\n",
       "      <td>212</td>\n",
       "      <td>137</td>\n",
       "      <td>2023-07-31 00:36:46.840299586</td>\n",
       "      <td>V</td>\n",
       "      <td>NaT</td>\n",
       "      <td>NaN</td>\n",
       "      <td>NaN</td>\n",
       "      <td>0.0</td>\n",
       "    </tr>\n",
       "    <tr>\n",
       "      <th>4406000</th>\n",
       "      <td>212</td>\n",
       "      <td>138</td>\n",
       "      <td>2023-07-31 00:37:17.025044463</td>\n",
       "      <td>V</td>\n",
       "      <td>NaT</td>\n",
       "      <td>NaN</td>\n",
       "      <td>NaN</td>\n",
       "      <td>0.0</td>\n",
       "    </tr>\n",
       "    <tr>\n",
       "      <th>4437509</th>\n",
       "      <td>212</td>\n",
       "      <td>139</td>\n",
       "      <td>2023-07-31 00:37:44.447964289</td>\n",
       "      <td>V</td>\n",
       "      <td>NaT</td>\n",
       "      <td>NaN</td>\n",
       "      <td>NaN</td>\n",
       "      <td>0.0</td>\n",
       "    </tr>\n",
       "    <tr>\n",
       "      <th>4469018</th>\n",
       "      <td>212</td>\n",
       "      <td>140</td>\n",
       "      <td>2023-07-31 00:38:15.009229395</td>\n",
       "      <td>V</td>\n",
       "      <td>NaT</td>\n",
       "      <td>NaN</td>\n",
       "      <td>NaN</td>\n",
       "      <td>0.0</td>\n",
       "    </tr>\n",
       "    <tr>\n",
       "      <th>4500527</th>\n",
       "      <td>212</td>\n",
       "      <td>141</td>\n",
       "      <td>2023-07-31 00:38:46.970880066</td>\n",
       "      <td>V</td>\n",
       "      <td>NaT</td>\n",
       "      <td>NaN</td>\n",
       "      <td>NaN</td>\n",
       "      <td>0.0</td>\n",
       "    </tr>\n",
       "  </tbody>\n",
       "</table>\n",
       "<p>4500528 rows × 8 columns</p>\n",
       "</div>"
      ],
      "text/plain": [
       "         day_of_year stop number                   visit_times sentido  \\\n",
       "0                  1           0 2023-01-01 05:00:22.000000000       I   \n",
       "1                  1           0 2023-01-01 05:42:45.000000000       I   \n",
       "2                  1           0 2023-01-01 06:46:39.000000000       I   \n",
       "3                  1           0 2023-01-01 07:04:50.000000000       I   \n",
       "4                  1           0 2023-01-01 07:21:04.000000000       I   \n",
       "...              ...         ...                           ...     ...   \n",
       "4374491          212         137 2023-07-31 00:36:46.840299586       V   \n",
       "4406000          212         138 2023-07-31 00:37:17.025044463       V   \n",
       "4437509          212         139 2023-07-31 00:37:44.447964289       V   \n",
       "4469018          212         140 2023-07-31 00:38:15.009229395       V   \n",
       "4500527          212         141 2023-07-31 00:38:46.970880066       V   \n",
       "\n",
       "        time_since_last_visit  wait time (s)  wait difference from avg (s)  \\\n",
       "0                         NaT            NaN                           NaN   \n",
       "1             0 days 00:42:23         2543.0                    1992.09805   \n",
       "2             0 days 01:03:54         3834.0                    3283.09805   \n",
       "3             0 days 00:18:11         1091.0                     540.09805   \n",
       "4             0 days 00:16:14          974.0                     423.09805   \n",
       "...                       ...            ...                           ...   \n",
       "4374491                   NaT            NaN                           NaN   \n",
       "4406000                   NaT            NaN                           NaN   \n",
       "4437509                   NaT            NaN                           NaN   \n",
       "4469018                   NaT            NaN                           NaN   \n",
       "4500527                   NaT            NaN                           NaN   \n",
       "\n",
       "         hour  \n",
       "0         5.0  \n",
       "1         5.0  \n",
       "2         6.0  \n",
       "3         7.0  \n",
       "4         7.0  \n",
       "...       ...  \n",
       "4374491   0.0  \n",
       "4406000   0.0  \n",
       "4437509   0.0  \n",
       "4469018   0.0  \n",
       "4500527   0.0  \n",
       "\n",
       "[4500528 rows x 8 columns]"
      ]
     },
     "execution_count": 15,
     "metadata": {},
     "output_type": "execute_result"
    }
   ],
   "source": [
    "day_dataframe['wait time (s)'] = day_dataframe['time_since_last_visit'].dt.seconds\n",
    "wait_time_mean = day_dataframe['wait time (s)'].mean()\n",
    "day_dataframe['wait difference from avg (s)'] = day_dataframe['wait time (s)'] - wait_time_mean\n",
    "day_dataframe['hour'] = day_dataframe['visit_times'].dt.hour\n",
    "day_dataframe"
   ]
  },
  {
   "cell_type": "code",
   "execution_count": 16,
   "id": "e33e2d58fa156967",
   "metadata": {
    "collapsed": false
   },
   "outputs": [],
   "source": [
    "day_dataframe_normal_hours = day_dataframe[(7 <= day_dataframe['visit_times'].dt.hour) & (day_dataframe['visit_times'].dt.hour <= 20)]"
   ]
  },
  {
   "cell_type": "code",
   "execution_count": null,
   "id": "b49ffc78dee0b7d3",
   "metadata": {
    "collapsed": false
   },
   "outputs": [],
   "source": [
    "average_hourly_wait = day_dataframe_normal_hours.groupby(['stop number', 'hour']).agg({\n",
    "    'wait time (s)': 'mean', \n",
    "    'wait difference from avg (s)': 'mean',\n",
    "    'sentido': 'first'\n",
    "}).reset_index()\n",
    "average_hourly_wait"
   ]
  },
  {
   "cell_type": "code",
   "execution_count": null,
   "id": "c16c778a03599a5c",
   "metadata": {
    "collapsed": false
   },
   "outputs": [],
   "source": [
    "average_wait_time_by_hour = average_hourly_wait.groupby(['sentido', 'hour']).agg({\n",
    "    'wait time (s)': 'mean', \n",
    "    'wait difference from avg (s)': 'mean'\n",
    "}).reset_index()\n",
    "average_wait_time_by_hour['wait time (m)'] = average_wait_time_by_hour['wait time (s)'] / 60\n",
    "average_wait_time_by_hour['wait difference from avg (s)'] = average_wait_time_by_hour['wait difference from avg (s)'] / 60\n",
    "average_wait_time_by_hour"
   ]
  },
  {
   "cell_type": "code",
   "execution_count": null,
   "id": "9d2f8d1313c6de16",
   "metadata": {
    "collapsed": false
   },
   "outputs": [],
   "source": [
    "g = sns.barplot(average_wait_time_by_hour, x='hour', hue='sentido', y='wait time (m)')\n",
    "line = g.axhline(y=wait_time_mean/60, color='black', linestyle='--', zorder=-1)\n",
    "g.text(x=13.6, y=wait_time_mean/60 - 0.1, s=\"média\") \n",
    "g.set(title=\"Tempo médio de espera no ponto de ônibus por hora\", xlabel=\"Hora\", ylabel=\"Tempo de espera (minutos)\")\n",
    "sns.move_legend(g, 'upper left', labels=['ida', 'volta'])"
   ]
  },
  {
   "cell_type": "code",
   "execution_count": null,
   "id": "9452256e1d4ea880",
   "metadata": {
    "collapsed": false
   },
   "outputs": [],
   "source": [
    "g = sns.barplot(average_wait_time_by_hour, x='hour', hue='sentido', y='wait difference from avg (s)')\n",
    "g.axhline(y=0, color='black', linestyle='--', zorder=-1)\n",
    "g.text(x=13.65, y=-0.03, s=f\"média={wait_time_mean/60:.2f} min\") \n",
    "g.set(title=\"Variação em relação à média do tempo de espera no ponto de ônibus por hora\", xlabel=\"Hora\", ylabel=\"Variação do tempo de espera (minutos)\")\n",
    "sns.move_legend(g, 'upper left', labels=['ida', 'volta'])"
   ]
  },
  {
   "cell_type": "code",
   "execution_count": null,
   "id": "5bb98742ced9fd76",
   "metadata": {
    "collapsed": false
   },
   "outputs": [],
   "source": [
    "g = sns.lineplot(average_wait_time_by_hour, x='hour', hue='sentido', y='wait time (m)')\n",
    "g.set(title=\"Tempo médio de espera no ponto de ônibus por hora\", xlabel=\"Hora\", ylabel=\"Tempo de espera (minutos)\", xticks=average_wait_time_by_hour.hour.unique())\n",
    "g.axhline(y=wait_time_mean/60, color='black', linestyle='--', zorder=-1)\n",
    "g.text(x=20.7, y=wait_time_mean/60 - 0.04, s=\"média\") \n",
    "sns.move_legend(g, 'upper left', labels=['ida', 'volta'])"
   ]
  },
  {
   "cell_type": "markdown",
   "id": "1c8cfd838b0d437",
   "metadata": {
    "collapsed": false
   },
   "source": [
    "## 2.2\tAlguns motoristas dirigem significativamente mais rápido ou devagar que outros?"
   ]
  },
  {
   "cell_type": "code",
   "execution_count": null,
   "id": "681ef750794129dd",
   "metadata": {
    "collapsed": false
   },
   "outputs": [],
   "source": [
    "bus_positions_normal_hours = bus_positions[(7 <= bus_positions['timestamp_gps'].dt.hour) & (bus_positions['timestamp_gps'].dt.hour <= 20)]\n",
    "daily_hourly_speed_average = bus_positions_normal_hours.groupby([bus_positions_normal_hours.timestamp_gps.dt.day_of_week, bus_positions_normal_hours.timestamp_gps.dt.hour])['velocidade_instantanea'].agg(velocidade_média_momento='mean')\n",
    "daily_hourly_speed_average"
   ]
  },
  {
   "cell_type": "code",
   "execution_count": null,
   "id": "7e67cfff4531f2ff",
   "metadata": {
    "collapsed": false
   },
   "outputs": [],
   "source": [
    "trip_average_speed = bus_positions_normal_hours.groupby(['trip_id'])['velocidade_instantanea'].agg(velocidade_média='mean')\n",
    "trip_average_speed"
   ]
  },
  {
   "cell_type": "code",
   "execution_count": null,
   "id": "856b94842d751359",
   "metadata": {
    "collapsed": false
   },
   "outputs": [],
   "source": [
    "trips_with_average_speed = pd.merge(bus_trips, trip_average_speed, left_on='trip_id', right_index=True)\n",
    "trips_with_average_speed"
   ]
  },
  {
   "cell_type": "code",
   "execution_count": null,
   "id": "dbedd92b7016e066",
   "metadata": {
    "collapsed": false
   },
   "outputs": [],
   "source": [
    "trips_with_average_speed['datetime_meio'] = trips_with_average_speed['datetime_partida'] + (trips_with_average_speed['datetime_chegada'] - trips_with_average_speed['datetime_partida']) / 2\n",
    "trips_with_average_speed"
   ]
  },
  {
   "cell_type": "code",
   "execution_count": null,
   "id": "60730d59aef6b458",
   "metadata": {
    "collapsed": false
   },
   "outputs": [],
   "source": [
    "trips_with_average_speed['dia'] = trips_with_average_speed['datetime_meio'].dt.day_of_week\n",
    "trips_with_average_speed['hora'] = trips_with_average_speed['datetime_meio'].dt.hour\n",
    "trips_with_average_speed"
   ]
  },
  {
   "cell_type": "code",
   "execution_count": null,
   "id": "b6ac31fc1d18c295",
   "metadata": {
    "collapsed": false
   },
   "outputs": [],
   "source": [
    "trip_speed_comparison = pd.merge(trips_with_average_speed, daily_hourly_speed_average, left_on=['dia', 'hora'], right_index=True)[['trip_id', 'datetime_partida', 'velocidade_média', 'velocidade_média_momento']]\n",
    "trip_speed_comparison"
   ]
  },
  {
   "cell_type": "code",
   "execution_count": null,
   "id": "463fc19426454c2e",
   "metadata": {
    "collapsed": false
   },
   "outputs": [],
   "source": [
    "trip_speed_comparison['diferença de velocidade'] = trip_speed_comparison['velocidade_média'] - trip_speed_comparison['velocidade_média_momento']\n",
    "trip_speed_comparison"
   ]
  },
  {
   "cell_type": "code",
   "execution_count": null,
   "id": "f502efc986fcc3b2",
   "metadata": {
    "collapsed": false
   },
   "outputs": [],
   "source": [
    "g = sns.histplot(trip_speed_comparison['diferença de velocidade'], bins=51)\n",
    "g.set(title=\"Número de viagens pela diferença de velocidade em relação à média\", xlabel=\"Diferença de velocidade (km/h)\", ylabel=\"Número de viagens\")"
   ]
  },
  {
   "cell_type": "code",
   "execution_count": null,
   "id": "7a8821bd6ee6d663",
   "metadata": {
    "collapsed": false
   },
   "outputs": [],
   "source": [
    "g = sns.violinplot(trip_speed_comparison['diferença de velocidade'])\n",
    "g.set(title=\"Distribuição da diferença de velocidade em relação à média\", ylabel=\"Diferença de velocidade (km/h)\")"
   ]
  },
  {
   "cell_type": "code",
   "execution_count": null,
   "id": "4678d43b043566c9",
   "metadata": {
    "collapsed": false
   },
   "outputs": [],
   "source": [
    "stats = {\n",
    "    'Média': trip_speed_comparison['diferença de velocidade'].mean(),\n",
    "    'Desvio Padrão': trip_speed_comparison['diferença de velocidade'].std(),\n",
    "    'Mínimo': trip_speed_comparison['diferença de velocidade'].min(),\n",
    "    'Máximo': trip_speed_comparison['diferença de velocidade'].max()\n",
    "}\n",
    "stat_df = pd.DataFrame.from_dict(stats, orient='index', columns=['Valor']).reset_index(names=\"Estatística\").set_index(['Estatística'], drop=True)\n",
    "stat_df"
   ]
  },
  {
   "cell_type": "markdown",
   "id": "2e44b29d553954e1",
   "metadata": {
    "collapsed": false
   },
   "source": [
    "## 2.3 - O tempo de espera nos pontos de ônibus é uniforme na linha 309?"
   ]
  },
  {
   "cell_type": "code",
   "execution_count": 17,
   "id": "943b9ee3d88c5ef4",
   "metadata": {
    "collapsed": false
   },
   "outputs": [
    {
     "name": "stderr",
     "output_type": "stream",
     "text": [
      "C:\\Users\\thlam\\AppData\\Local\\Temp\\ipykernel_24216\\2086951396.py:2: SettingWithCopyWarning: \n",
      "A value is trying to be set on a copy of a slice from a DataFrame.\n",
      "Try using .loc[row_indexer,col_indexer] = value instead\n",
      "\n",
      "See the caveats in the documentation: https://pandas.pydata.org/pandas-docs/stable/user_guide/indexing.html#returning-a-view-versus-a-copy\n",
      "  stop_number_waits['wait time (min)'] = stop_number_waits['wait time (s)'] / 60\n"
     ]
    },
    {
     "data": {
      "text/html": [
       "<div>\n",
       "<style scoped>\n",
       "    .dataframe tbody tr th:only-of-type {\n",
       "        vertical-align: middle;\n",
       "    }\n",
       "\n",
       "    .dataframe tbody tr th {\n",
       "        vertical-align: top;\n",
       "    }\n",
       "\n",
       "    .dataframe thead th {\n",
       "        text-align: right;\n",
       "    }\n",
       "</style>\n",
       "<table border=\"1\" class=\"dataframe\">\n",
       "  <thead>\n",
       "    <tr style=\"text-align: right;\">\n",
       "      <th></th>\n",
       "      <th>visit_times</th>\n",
       "      <th>stop number</th>\n",
       "      <th>hour</th>\n",
       "      <th>sentido</th>\n",
       "      <th>wait time (s)</th>\n",
       "      <th>wait time (min)</th>\n",
       "    </tr>\n",
       "  </thead>\n",
       "  <tbody>\n",
       "    <tr>\n",
       "      <th>3</th>\n",
       "      <td>2023-01-01 07:04:50.000000000</td>\n",
       "      <td>0</td>\n",
       "      <td>7.0</td>\n",
       "      <td>I</td>\n",
       "      <td>1091.0</td>\n",
       "      <td>18.183333</td>\n",
       "    </tr>\n",
       "    <tr>\n",
       "      <th>4</th>\n",
       "      <td>2023-01-01 07:21:04.000000000</td>\n",
       "      <td>0</td>\n",
       "      <td>7.0</td>\n",
       "      <td>I</td>\n",
       "      <td>974.0</td>\n",
       "      <td>16.233333</td>\n",
       "    </tr>\n",
       "    <tr>\n",
       "      <th>5</th>\n",
       "      <td>2023-01-01 08:02:25.000000000</td>\n",
       "      <td>0</td>\n",
       "      <td>8.0</td>\n",
       "      <td>I</td>\n",
       "      <td>2481.0</td>\n",
       "      <td>41.350000</td>\n",
       "    </tr>\n",
       "    <tr>\n",
       "      <th>6</th>\n",
       "      <td>2023-01-01 09:05:06.000000000</td>\n",
       "      <td>0</td>\n",
       "      <td>9.0</td>\n",
       "      <td>I</td>\n",
       "      <td>3761.0</td>\n",
       "      <td>62.683333</td>\n",
       "    </tr>\n",
       "    <tr>\n",
       "      <th>7</th>\n",
       "      <td>2023-01-01 09:11:43.000000000</td>\n",
       "      <td>0</td>\n",
       "      <td>9.0</td>\n",
       "      <td>I</td>\n",
       "      <td>397.0</td>\n",
       "      <td>6.616667</td>\n",
       "    </tr>\n",
       "    <tr>\n",
       "      <th>...</th>\n",
       "      <td>...</td>\n",
       "      <td>...</td>\n",
       "      <td>...</td>\n",
       "      <td>...</td>\n",
       "      <td>...</td>\n",
       "      <td>...</td>\n",
       "    </tr>\n",
       "    <tr>\n",
       "      <th>4500518</th>\n",
       "      <td>2023-07-30 20:12:00.688827274</td>\n",
       "      <td>141</td>\n",
       "      <td>20.0</td>\n",
       "      <td>V</td>\n",
       "      <td>630.0</td>\n",
       "      <td>10.500000</td>\n",
       "    </tr>\n",
       "    <tr>\n",
       "      <th>4500519</th>\n",
       "      <td>2023-07-30 20:25:44.956084856</td>\n",
       "      <td>141</td>\n",
       "      <td>20.0</td>\n",
       "      <td>V</td>\n",
       "      <td>824.0</td>\n",
       "      <td>13.733333</td>\n",
       "    </tr>\n",
       "    <tr>\n",
       "      <th>4500520</th>\n",
       "      <td>2023-07-30 20:37:45.549811711</td>\n",
       "      <td>141</td>\n",
       "      <td>20.0</td>\n",
       "      <td>V</td>\n",
       "      <td>720.0</td>\n",
       "      <td>12.000000</td>\n",
       "    </tr>\n",
       "    <tr>\n",
       "      <th>4500521</th>\n",
       "      <td>2023-07-30 20:49:59.254348975</td>\n",
       "      <td>141</td>\n",
       "      <td>20.0</td>\n",
       "      <td>V</td>\n",
       "      <td>733.0</td>\n",
       "      <td>12.216667</td>\n",
       "    </tr>\n",
       "    <tr>\n",
       "      <th>4500522</th>\n",
       "      <td>2023-07-30 20:59:43.319961983</td>\n",
       "      <td>141</td>\n",
       "      <td>20.0</td>\n",
       "      <td>V</td>\n",
       "      <td>584.0</td>\n",
       "      <td>9.733333</td>\n",
       "    </tr>\n",
       "  </tbody>\n",
       "</table>\n",
       "<p>3191704 rows × 6 columns</p>\n",
       "</div>"
      ],
      "text/plain": [
       "                          visit_times stop number  hour sentido  \\\n",
       "3       2023-01-01 07:04:50.000000000           0   7.0       I   \n",
       "4       2023-01-01 07:21:04.000000000           0   7.0       I   \n",
       "5       2023-01-01 08:02:25.000000000           0   8.0       I   \n",
       "6       2023-01-01 09:05:06.000000000           0   9.0       I   \n",
       "7       2023-01-01 09:11:43.000000000           0   9.0       I   \n",
       "...                               ...         ...   ...     ...   \n",
       "4500518 2023-07-30 20:12:00.688827274         141  20.0       V   \n",
       "4500519 2023-07-30 20:25:44.956084856         141  20.0       V   \n",
       "4500520 2023-07-30 20:37:45.549811711         141  20.0       V   \n",
       "4500521 2023-07-30 20:49:59.254348975         141  20.0       V   \n",
       "4500522 2023-07-30 20:59:43.319961983         141  20.0       V   \n",
       "\n",
       "         wait time (s)  wait time (min)  \n",
       "3               1091.0        18.183333  \n",
       "4                974.0        16.233333  \n",
       "5               2481.0        41.350000  \n",
       "6               3761.0        62.683333  \n",
       "7                397.0         6.616667  \n",
       "...                ...              ...  \n",
       "4500518          630.0        10.500000  \n",
       "4500519          824.0        13.733333  \n",
       "4500520          720.0        12.000000  \n",
       "4500521          733.0        12.216667  \n",
       "4500522          584.0         9.733333  \n",
       "\n",
       "[3191704 rows x 6 columns]"
      ]
     },
     "execution_count": 17,
     "metadata": {},
     "output_type": "execute_result"
    }
   ],
   "source": [
    "stop_number_waits = day_dataframe_normal_hours[['visit_times', 'stop number', 'hour', 'sentido', 'wait time (s)']]\n",
    "stop_number_waits['wait time (min)'] = stop_number_waits['wait time (s)'] / 60\n",
    "stop_number_waits"
   ]
  },
  {
   "cell_type": "code",
   "execution_count": null,
   "id": "f5257311a8ba1c88",
   "metadata": {
    "collapsed": false
   },
   "outputs": [],
   "source": [
    "from matplotlib import pyplot as plt\n",
    "import math\n",
    "\n",
    "for slider_value in tqdm(range(70, 191), total=191-70):\n",
    "    slider_value /= 10\n",
    "    \n",
    "    slider_hour = math.floor(slider_value)\n",
    "    slider_minutes = math.floor((slider_value - slider_hour) * 60)\n",
    "    slider_time = pd.Timestamp(hour=slider_hour, minute=slider_minutes, year=2023, month=1, day=1)\n",
    "    \n",
    "    range_start = (slider_time - pd.Timedelta(minutes=30)).time()\n",
    "    range_end = (slider_time + pd.Timedelta(minutes=30)).time()\n",
    "    \n",
    "    data = stop_number_waits[ \\\n",
    "        (stop_number_waits.visit_times.dt.time >= range_start) &\n",
    "        (stop_number_waits.visit_times.dt.time <= range_end) \\\n",
    "    ]\n",
    "    data = data.groupby(['stop number', 'sentido'])['wait time (min)'].mean().reset_index(name='wait time (minutes)')\n",
    "    data.loc[data.sentido=='V', 'stop number'] -= data[data.sentido=='I']['stop number'].max()\n",
    "    g = sns.lineplot(data, x='stop number', y='wait time (minutes)', hue='sentido')\n",
    "    g.set(title=f\"Tempo médio de espera no ponto de ônibus por paradas entre 07:00 e 20:00\\n\"\n",
    "                f\"Horário: {range_start} a {range_end}\", \n",
    "          xlabel=\"Parada\", \n",
    "          ylabel=\"Tempo de espera (minutos)\",\n",
    "          ylim=(0, 10))\n",
    "    g.figure.set_size_inches(10, 5)\n",
    "    sns.move_legend(g, 'upper left', labels=['ida', 'volta'])\n",
    "    g.figure.savefig(f\"./images/{slider_value}.png\")\n",
    "    plt.close()"
   ]
  },
  {
   "cell_type": "code",
   "execution_count": 18,
   "id": "18b82057aea5559a",
   "metadata": {
    "collapsed": false
   },
   "outputs": [
    {
     "name": "stderr",
     "output_type": "stream",
     "text": [
      "  0%|                                                                                          | 0/121 [00:02<?, ?it/s]\n"
     ]
    },
    {
     "data": {
      "image/png": "[encoded data removed]",
      "text/plain": [
       "<Figure size 2000x500 with 1 Axes>"
      ]
     },
     "metadata": {},
     "output_type": "display_data"
    }
   ],
   "source": [
    "from matplotlib import pyplot as plt\n",
    "import math\n",
    "\n",
    "for slider_value in tqdm(range(70, 191), total=191-70):\n",
    "    slider_value /= 10\n",
    "    \n",
    "    slider_hour = math.floor(slider_value)\n",
    "    slider_minutes = math.floor((slider_value - slider_hour) * 60)\n",
    "    slider_time = pd.Timestamp(hour=slider_hour, minute=slider_minutes, year=2023, month=1, day=1)\n",
    "    \n",
    "    range_start = (slider_time - pd.Timedelta(minutes=30)).time()\n",
    "    range_end = (slider_time + pd.Timedelta(minutes=30)).time()\n",
    "    \n",
    "    data = stop_number_waits[ \\\n",
    "        (stop_number_waits.visit_times.dt.time >= range_start) &\n",
    "        (stop_number_waits.visit_times.dt.time <= range_end) \\\n",
    "    ]\n",
    "    data = data.groupby(['stop number', 'sentido'])['wait time (min)'].mean().reset_index(name='wait time (minutes)')\n",
    "    data.loc[data.sentido=='V', 'stop number'] -= data[data.sentido=='V']['stop number'].min()\n",
    "    g = sns.barplot(data, x='stop number', y='wait time (minutes)', hue='sentido')\n",
    "    g.set(title=f\"Tempo médio de espera no ponto de ônibus por paradas entre 07:00 e 20:00\\n\"\n",
    "                f\"Horário: {range_start} a {range_end}\", \n",
    "          xlabel=\"Parada\", \n",
    "          ylabel=\"Tempo de espera (minutos)\",\n",
    "          ylim=(0, 10))\n",
    "    g.figure.set_size_inches(20, 5)\n",
    "    sns.move_legend(g, 'upper left', labels=['ida', 'volta'])\n",
    "    g.figure.savefig(f\"./images/{slider_value}.png\")\n",
    "    plt.close()"
   ]
  },
  {
   "cell_type": "code",
   "execution_count": null,
   "id": "3b1e4c8ade4a9118",
   "metadata": {
    "collapsed": false
   },
   "outputs": [],
   "source": [
    "from matplotlib import pyplot as plt\n",
    "import math\n",
    "\n",
    "stats = {}\n",
    "\n",
    "for hour in range(7, 21):\n",
    "    \n",
    "    slider_hour = math.floor(hour)\n",
    "    slider_time = pd.Timestamp(hour=slider_hour, year=2023, month=1, day=1)\n",
    "    \n",
    "    range_start = (slider_time - pd.Timedelta(minutes=30)).time()\n",
    "    range_end = (slider_time + pd.Timedelta(minutes=30)).time()\n",
    "    \n",
    "    data = stop_number_waits[ \\\n",
    "        (stop_number_waits.visit_times.dt.time >= range_start) &\n",
    "        (stop_number_waits.visit_times.dt.time <= range_end) \\\n",
    "    ]\n",
    "    data = data.groupby(['stop number', 'sentido'])['wait time (min)'].mean().reset_index(name='wait time (minutes)')\n",
    "    data.loc[data.sentido=='V', 'stop number'] -= data[data.sentido=='V']['stop number'].min()\n",
    "    \n",
    "    for direction in ['I', 'V']:\n",
    "        relevant_stats = {\n",
    "            'Média': data[data.sentido==direction]['wait time (minutes)'].mean(),\n",
    "            'Desvio Padrão': data[data.sentido==direction]['wait time (minutes)'].std(),\n",
    "            'Mínimo': data[data.sentido==direction]['wait time (minutes)'].min(),\n",
    "            'Máximo': data[data.sentido==direction]['wait time (minutes)'].max()\n",
    "        }\n",
    "        stats[(hour, 'Ida' if direction == 'I' else 'Volta')] = relevant_stats\n",
    "    \n",
    "stats"
   ]
  },
  {
   "cell_type": "code",
   "execution_count": null,
   "id": "42abf2f3b765d06b",
   "metadata": {
    "collapsed": false
   },
   "outputs": [],
   "source": [
    "stat_dataframe = pd.DataFrame.from_dict(stats, orient='index')\n",
    "stat_dataframe.transpose()"
   ]
  },
  {
   "cell_type": "markdown",
   "id": "464b634ef415cb8c",
   "metadata": {
    "collapsed": false
   },
   "source": [
    "## 2.4 - Qual a velocidade média da linha 309 durante o dia?"
   ]
  },
  {
   "cell_type": "code",
   "execution_count": 6,
   "id": "4b4d3509f59a9303",
   "metadata": {
    "collapsed": false,
    "ExecuteTime": {
     "end_time": "2023-12-03T00:04:23.490258200Z",
     "start_time": "2023-12-03T00:04:22.642213300Z"
    }
   },
   "outputs": [],
   "source": [
    "bus_position_hourly = bus_positions[['timestamp_gps', 'sentido', 'velocidade_instantanea']].copy()\n",
    "bus_position_hourly['hour'] = bus_position_hourly.timestamp_gps.dt.hour"
   ]
  },
  {
   "cell_type": "code",
   "execution_count": 7,
   "id": "a3c74615-52c4-4b0a-975f-459c57975bb2",
   "metadata": {
    "ExecuteTime": {
     "end_time": "2023-12-03T00:04:25.055685Z",
     "start_time": "2023-12-03T00:04:23.437526400Z"
    }
   },
   "outputs": [
    {
     "data": {
      "text/plain": "    hour  velocidade_instantanea\n0      0               31.352896\n1      1               34.760946\n2      2               37.011831\n3      3               38.324854\n4      4               35.770910\n5      5               33.696644\n6      6               28.419269\n7      7               24.080606\n8      8               22.626187\n9      9               21.234256\n10    10               21.792139\n11    11               21.644822\n12    12               20.818208\n13    13               20.793838\n14    14               20.373449\n15    15               19.722141\n16    16               19.030901\n17    17               17.594441\n18    18               17.646709\n19    19               20.453904\n20    20               25.343223\n21    21               28.306957\n22    22               27.726812\n23    23               29.138074",
      "text/html": "<div>\n<style scoped>\n    .dataframe tbody tr th:only-of-type {\n        vertical-align: middle;\n    }\n\n    .dataframe tbody tr th {\n        vertical-align: top;\n    }\n\n    .dataframe thead th {\n        text-align: right;\n    }\n</style>\n<table border=\"1\" class=\"dataframe\">\n  <thead>\n    <tr style=\"text-align: right;\">\n      <th></th>\n      <th>hour</th>\n      <th>velocidade_instantanea</th>\n    </tr>\n  </thead>\n  <tbody>\n    <tr>\n      <th>0</th>\n      <td>0</td>\n      <td>31.352896</td>\n    </tr>\n    <tr>\n      <th>1</th>\n      <td>1</td>\n      <td>34.760946</td>\n    </tr>\n    <tr>\n      <th>2</th>\n      <td>2</td>\n      <td>37.011831</td>\n    </tr>\n    <tr>\n      <th>3</th>\n      <td>3</td>\n      <td>38.324854</td>\n    </tr>\n    <tr>\n      <th>4</th>\n      <td>4</td>\n      <td>35.770910</td>\n    </tr>\n    <tr>\n      <th>5</th>\n      <td>5</td>\n      <td>33.696644</td>\n    </tr>\n    <tr>\n      <th>6</th>\n      <td>6</td>\n      <td>28.419269</td>\n    </tr>\n    <tr>\n      <th>7</th>\n      <td>7</td>\n      <td>24.080606</td>\n    </tr>\n    <tr>\n      <th>8</th>\n      <td>8</td>\n      <td>22.626187</td>\n    </tr>\n    <tr>\n      <th>9</th>\n      <td>9</td>\n      <td>21.234256</td>\n    </tr>\n    <tr>\n      <th>10</th>\n      <td>10</td>\n      <td>21.792139</td>\n    </tr>\n    <tr>\n      <th>11</th>\n      <td>11</td>\n      <td>21.644822</td>\n    </tr>\n    <tr>\n      <th>12</th>\n      <td>12</td>\n      <td>20.818208</td>\n    </tr>\n    <tr>\n      <th>13</th>\n      <td>13</td>\n      <td>20.793838</td>\n    </tr>\n    <tr>\n      <th>14</th>\n      <td>14</td>\n      <td>20.373449</td>\n    </tr>\n    <tr>\n      <th>15</th>\n      <td>15</td>\n      <td>19.722141</td>\n    </tr>\n    <tr>\n      <th>16</th>\n      <td>16</td>\n      <td>19.030901</td>\n    </tr>\n    <tr>\n      <th>17</th>\n      <td>17</td>\n      <td>17.594441</td>\n    </tr>\n    <tr>\n      <th>18</th>\n      <td>18</td>\n      <td>17.646709</td>\n    </tr>\n    <tr>\n      <th>19</th>\n      <td>19</td>\n      <td>20.453904</td>\n    </tr>\n    <tr>\n      <th>20</th>\n      <td>20</td>\n      <td>25.343223</td>\n    </tr>\n    <tr>\n      <th>21</th>\n      <td>21</td>\n      <td>28.306957</td>\n    </tr>\n    <tr>\n      <th>22</th>\n      <td>22</td>\n      <td>27.726812</td>\n    </tr>\n    <tr>\n      <th>23</th>\n      <td>23</td>\n      <td>29.138074</td>\n    </tr>\n  </tbody>\n</table>\n</div>"
     },
     "execution_count": 7,
     "metadata": {},
     "output_type": "execute_result"
    }
   ],
   "source": [
    "avg_speed_by_hour = bus_position_hourly.groupby(['hour'])['velocidade_instantanea'].agg(velocidade_instantanea='mean').reset_index()\n",
    "avg_speed_by_hour"
   ]
  },
  {
   "cell_type": "code",
   "execution_count": null,
   "id": "97204c50476f57ce",
   "metadata": {
    "collapsed": false
   },
   "outputs": [],
   "source": [
    "g = sns.barplot(bus_position_hourly, x='hour', y='velocidade_instantanea', estimator='mean', errorbar=None)\n",
    "g.set(title=\"Velocidade média por hora\", xlabel=\"Hora\", ylabel=\"Velocidade média (km/h)\", xticks=avg_speed_by_hour.hour.unique())\n",
    "g.figure.set_size_inches(10, 5)"
   ]
  },
  {
   "cell_type": "code",
   "execution_count": null,
   "id": "1ca59131359b9fed",
   "metadata": {
    "collapsed": false
   },
   "outputs": [],
   "source": [
    "g = sns.lineplot(avg_speed_by_hour, x='hour', y='velocidade_instantanea')\n",
    "g.set(title=\"Velocidade média por hora\", xlabel=\"Hora\", ylabel=\"Velocidade média (km/h)\", xticks=avg_speed_by_hour.hour.unique())\n",
    "g.figure.set_size_inches(10, 5)"
   ]
  },
  {
   "cell_type": "code",
   "execution_count": 9,
   "id": "adfbfb1029fc8f32",
   "metadata": {
    "collapsed": false,
    "ExecuteTime": {
     "end_time": "2023-12-03T00:06:42.386411900Z",
     "start_time": "2023-12-03T00:06:30.361480300Z"
    }
   },
   "outputs": [
    {
     "data": {
      "text/plain": "<Figure size 1000x500 with 1 Axes>",
      "image/png": "[encoded data removed]"
     },
     "metadata": {},
     "output_type": "display_data"
    }
   ],
   "source": [
    "g = sns.boxplot(bus_position_hourly, x='hour', y='velocidade_instantanea')\n",
    "g.set(title=\"Distribuição de velocidade por hora\", xlabel=\"Hora\", ylabel=\"Velocidade (km/h)\", xticks=avg_speed_by_hour.hour.unique())\n",
    "g.figure.set_size_inches(10, 5)"
   ]
  },
  {
   "cell_type": "code",
   "execution_count": null,
   "id": "4da02a61f8350d50",
   "metadata": {
    "collapsed": false
   },
   "outputs": [],
   "source": []
  }
 ],
 "metadata": {
  "kernelspec": {
   "display_name": "Python 3 (ipykernel)",
   "language": "python",
   "name": "python3"
  },
  "language_info": {
   "codemirror_mode": {
    "name": "ipython",
    "version": 3
   },
   "file_extension": ".py",
   "mimetype": "text/x-python",
   "name": "python",
   "nbconvert_exporter": "python",
   "pygments_lexer": "ipython3",
   "version": "3.11.3"
  }
 },
 "nbformat": 4,
 "nbformat_minor": 5
}
